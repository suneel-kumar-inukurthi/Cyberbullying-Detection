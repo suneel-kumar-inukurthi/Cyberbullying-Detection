{
 "cells": [
  {
   "cell_type": "code",
   "execution_count": 1,
   "id": "acac0a37",
   "metadata": {},
   "outputs": [],
   "source": [
    "#%pip install --upgrade pip\n",
    "#%pip install pandas\n",
    "#%pip install Jinja2"
   ]
  },
  {
   "cell_type": "code",
   "execution_count": 3,
   "id": "a9b13ba4",
   "metadata": {},
   "outputs": [],
   "source": [
    "import warnings\n",
    "warnings.filterwarnings('ignore')\n",
    "import pandas as pd\n",
    "import numpy as np\n",
    "import re\n",
    "import matplotlib.pyplot as plt\n",
    "%matplotlib inline\n",
    "\n",
    "import seaborn as sns\n",
    "import plotly.express as px\n",
    "import emoji\n",
    "import string\n",
    "import nltk\n",
    "#from PIL import Image\n",
    "from collections import Counter\n",
    "from wordcloud import WordCloud, ImageColorGenerator, STOPWORDS\n",
    "from nltk.tokenize import word_tokenize\n",
    "from nltk.corpus import stopwords\n",
    "from nltk.stem.porter import PorterStemmer\n",
    "#from nltk.stem.snowball import SnowballStemmer\n",
    "from nltk.stem import WordNetLemmatizer\n",
    "\n",
    "#from sklearn.feature_extraction.text import CountVectorizer\n",
    "from sklearn.feature_extraction.text import TfidfVectorizer\n",
    "from sklearn.model_selection import train_test_split\n",
    "#from sklearn.model_selection import cross_val_score, cross_val_predict\n",
    "from sklearn.metrics import accuracy_score\n",
    "from sklearn.metrics import f1_score,confusion_matrix,classification_report\n",
    "#from sklearn.model_selection import GridSearchCV\n",
    "#from sklearn.model_selection import RandomizedSearchCV\n",
    "\n",
    "from sklearn.linear_model import LogisticRegression\n",
    "from sklearn.ensemble import RandomForestClassifier\n",
    "#from sklearn.ensemble import AdaBoostClassifier\n",
    "#from sklearn.svm import SVC, LinearSVC\n",
    "#from sklearn.naive_bayes import MultinomialNB\n",
    "from sklearn.tree import DecisionTreeClassifier\n",
    "#from sklearn.pipeline import Pipeline\n",
    "\n",
    "\n",
    "import pickle"
   ]
  },
  {
   "cell_type": "code",
   "execution_count": 2,
   "id": "a95cc508",
   "metadata": {},
   "outputs": [
    {
     "name": "stdout",
     "output_type": "stream",
     "text": [
      "Collecting transformers\n",
      "  Using cached transformers-4.18.0-py3-none-any.whl (4.0 MB)\n",
      "Requirement already satisfied: tqdm>=4.27 in f:\\dmt\\lib\\site-packages (from transformers) (4.64.1)\n",
      "Requirement already satisfied: packaging>=20.0 in f:\\dmt\\lib\\site-packages (from transformers) (21.3)\n",
      "Requirement already satisfied: regex!=2019.12.17 in f:\\dmt\\lib\\site-packages (from transformers) (2023.8.8)\n",
      "Collecting pyyaml>=5.1\n",
      "  Using cached PyYAML-6.0.1-cp36-cp36m-win_amd64.whl (153 kB)\n",
      "Collecting filelock\n",
      "  Using cached filelock-3.4.1-py3-none-any.whl (9.9 kB)\n",
      "Collecting huggingface-hub<1.0,>=0.1.0\n",
      "  Using cached huggingface_hub-0.4.0-py3-none-any.whl (67 kB)\n",
      "Requirement already satisfied: dataclasses in f:\\dmt\\lib\\site-packages (from transformers) (0.8)\n",
      "Requirement already satisfied: requests in f:\\dmt\\lib\\site-packages (from transformers) (2.27.1)\n",
      "Collecting sacremoses\n",
      "  Using cached sacremoses-0.0.53-py3-none-any.whl\n",
      "Collecting tokenizers!=0.11.3,<0.13,>=0.11.1\n",
      "  Using cached tokenizers-0.12.1.tar.gz (220 kB)\n",
      "  Installing build dependencies: started\n",
      "  Installing build dependencies: finished with status 'done'\n",
      "  Getting requirements to build wheel: started\n",
      "  Getting requirements to build wheel: finished with status 'done'\n",
      "  Preparing metadata (pyproject.toml): started\n",
      "  Preparing metadata (pyproject.toml): finished with status 'done'\n",
      "Requirement already satisfied: importlib-metadata in f:\\dmt\\lib\\site-packages (from transformers) (4.8.3)\n",
      "Requirement already satisfied: numpy>=1.17 in f:\\dmt\\lib\\site-packages (from transformers) (1.19.5)\n",
      "Requirement already satisfied: typing-extensions>=3.7.4.3 in f:\\dmt\\lib\\site-packages (from huggingface-hub<1.0,>=0.1.0->transformers) (3.7.4.3)\n",
      "Requirement already satisfied: pyparsing!=3.0.5,>=2.0.2 in f:\\dmt\\lib\\site-packages (from packaging>=20.0->transformers) (3.0.7)\n",
      "Requirement already satisfied: importlib-resources in f:\\dmt\\lib\\site-packages (from tqdm>=4.27->transformers) (5.4.0)\n",
      "Requirement already satisfied: colorama in f:\\dmt\\lib\\site-packages (from tqdm>=4.27->transformers) (0.4.5)\n",
      "Requirement already satisfied: zipp>=0.5 in f:\\dmt\\lib\\site-packages (from importlib-metadata->transformers) (3.6.0)\n",
      "Requirement already satisfied: idna<4,>=2.5 in f:\\dmt\\lib\\site-packages (from requests->transformers) (3.4)\n",
      "Requirement already satisfied: urllib3<1.27,>=1.21.1 in f:\\dmt\\lib\\site-packages (from requests->transformers) (1.26.18)\n",
      "Requirement already satisfied: charset-normalizer~=2.0.0 in f:\\dmt\\lib\\site-packages (from requests->transformers) (2.0.12)\n",
      "Requirement already satisfied: certifi>=2017.4.17 in f:\\dmt\\lib\\site-packages (from requests->transformers) (2023.7.22)\n",
      "Requirement already satisfied: joblib in f:\\dmt\\lib\\site-packages (from sacremoses->transformers) (1.1.1)\n",
      "Requirement already satisfied: six in f:\\dmt\\lib\\site-packages (from sacremoses->transformers) (1.15.0)\n",
      "Requirement already satisfied: click in f:\\dmt\\lib\\site-packages (from sacremoses->transformers) (8.0.4)\n",
      "Building wheels for collected packages: tokenizers\n",
      "  Building wheel for tokenizers (pyproject.toml): started\n",
      "  Building wheel for tokenizers (pyproject.toml): finished with status 'error'\n",
      "Failed to build tokenizers\n",
      "Note: you may need to restart the kernel to use updated packages.\n"
     ]
    },
    {
     "name": "stderr",
     "output_type": "stream",
     "text": [
      "  ERROR: Command errored out with exit status 1:\n",
      "   command: 'f:\\DMT\\Scripts\\python.exe' 'f:\\DMT\\lib\\site-packages\\pip\\_vendor\\pep517\\in_process\\_in_process.py' build_wheel 'C:\\Users\\SRIHAR~1\\AppData\\Local\\Temp\\tmpt5nyj5tz'\n",
      "       cwd: C:\\Users\\SRIHAR~1\\AppData\\Local\\Temp\\pip-install-30c2r1ot\\tokenizers_fede9302f8a64af09cb7da7f668e7000\n",
      "  Complete output (51 lines):\n",
      "  running bdist_wheel\n",
      "  running build\n",
      "  running build_py\n",
      "  creating build\n",
      "  creating build\\lib.win-amd64-3.6\n",
      "  creating build\\lib.win-amd64-3.6\\tokenizers\n",
      "  copying py_src\\tokenizers\\__init__.py -> build\\lib.win-amd64-3.6\\tokenizers\n",
      "  creating build\\lib.win-amd64-3.6\\tokenizers\\models\n",
      "  copying py_src\\tokenizers\\models\\__init__.py -> build\\lib.win-amd64-3.6\\tokenizers\\models\n",
      "  creating build\\lib.win-amd64-3.6\\tokenizers\\decoders\n",
      "  copying py_src\\tokenizers\\decoders\\__init__.py -> build\\lib.win-amd64-3.6\\tokenizers\\decoders\n",
      "  creating build\\lib.win-amd64-3.6\\tokenizers\\normalizers\n",
      "  copying py_src\\tokenizers\\normalizers\\__init__.py -> build\\lib.win-amd64-3.6\\tokenizers\\normalizers\n",
      "  creating build\\lib.win-amd64-3.6\\tokenizers\\pre_tokenizers\n",
      "  copying py_src\\tokenizers\\pre_tokenizers\\__init__.py -> build\\lib.win-amd64-3.6\\tokenizers\\pre_tokenizers\n",
      "  creating build\\lib.win-amd64-3.6\\tokenizers\\processors\n",
      "  copying py_src\\tokenizers\\processors\\__init__.py -> build\\lib.win-amd64-3.6\\tokenizers\\processors\n",
      "  creating build\\lib.win-amd64-3.6\\tokenizers\\trainers\n",
      "  copying py_src\\tokenizers\\trainers\\__init__.py -> build\\lib.win-amd64-3.6\\tokenizers\\trainers\n",
      "  creating build\\lib.win-amd64-3.6\\tokenizers\\implementations\n",
      "  copying py_src\\tokenizers\\implementations\\base_tokenizer.py -> build\\lib.win-amd64-3.6\\tokenizers\\implementations\n",
      "  copying py_src\\tokenizers\\implementations\\bert_wordpiece.py -> build\\lib.win-amd64-3.6\\tokenizers\\implementations\n",
      "  copying py_src\\tokenizers\\implementations\\byte_level_bpe.py -> build\\lib.win-amd64-3.6\\tokenizers\\implementations\n",
      "  copying py_src\\tokenizers\\implementations\\char_level_bpe.py -> build\\lib.win-amd64-3.6\\tokenizers\\implementations\n",
      "  copying py_src\\tokenizers\\implementations\\sentencepiece_bpe.py -> build\\lib.win-amd64-3.6\\tokenizers\\implementations\n",
      "  copying py_src\\tokenizers\\implementations\\sentencepiece_unigram.py -> build\\lib.win-amd64-3.6\\tokenizers\\implementations\n",
      "  copying py_src\\tokenizers\\implementations\\__init__.py -> build\\lib.win-amd64-3.6\\tokenizers\\implementations\n",
      "  creating build\\lib.win-amd64-3.6\\tokenizers\\tools\n",
      "  copying py_src\\tokenizers\\tools\\visualizer.py -> build\\lib.win-amd64-3.6\\tokenizers\\tools\n",
      "  copying py_src\\tokenizers\\tools\\__init__.py -> build\\lib.win-amd64-3.6\\tokenizers\\tools\n",
      "  copying py_src\\tokenizers\\__init__.pyi -> build\\lib.win-amd64-3.6\\tokenizers\n",
      "  copying py_src\\tokenizers\\models\\__init__.pyi -> build\\lib.win-amd64-3.6\\tokenizers\\models\n",
      "  copying py_src\\tokenizers\\decoders\\__init__.pyi -> build\\lib.win-amd64-3.6\\tokenizers\\decoders\n",
      "  copying py_src\\tokenizers\\normalizers\\__init__.pyi -> build\\lib.win-amd64-3.6\\tokenizers\\normalizers\n",
      "  copying py_src\\tokenizers\\pre_tokenizers\\__init__.pyi -> build\\lib.win-amd64-3.6\\tokenizers\\pre_tokenizers\n",
      "  copying py_src\\tokenizers\\processors\\__init__.pyi -> build\\lib.win-amd64-3.6\\tokenizers\\processors\n",
      "  copying py_src\\tokenizers\\trainers\\__init__.pyi -> build\\lib.win-amd64-3.6\\tokenizers\\trainers\n",
      "  copying py_src\\tokenizers\\tools\\visualizer-styles.css -> build\\lib.win-amd64-3.6\\tokenizers\\tools\n",
      "  running build_ext\n",
      "  running build_rust\n",
      "  error: can't find Rust compiler\n",
      "  \n",
      "  If you are using an outdated pip version, it is possible a prebuilt wheel is available for this package but pip is not able to install from it. Installing from the wheel would avoid the need for a Rust compiler.\n",
      "  \n",
      "  To update pip, run:\n",
      "  \n",
      "      pip install --upgrade pip\n",
      "  \n",
      "  and then retry package installation.\n",
      "  \n",
      "  If you did intend to build this package from source, try installing a Rust compiler from your system package manager and ensure it is on the PATH during installation. Alternatively, rustup (available at https://rustup.rs) is the recommended way to download and update the Rust compiler toolchain.\n",
      "  ----------------------------------------\n",
      "  ERROR: Failed building wheel for tokenizers\n",
      "ERROR: Could not build wheels for tokenizers, which is required to install pyproject.toml-based projects\n"
     ]
    }
   ],
   "source": [
    "#%pip install pandas\n",
    "#%pip install matplotlib\n",
    "#%pip install seaborn \n",
    "#%pip install plotly\n",
    "#%pip install emoji\n",
    "#%pip install nltk\n",
    "#%pip install wordcloud\n",
    "#%pip install scikit-learn\n"
   ]
  },
  {
   "cell_type": "code",
   "execution_count": 4,
   "id": "d8108aa1",
   "metadata": {},
   "outputs": [],
   "source": [
    "df=pd.read_csv('F:\\DMT\\hate_speech_mlma\\hate_speech_mlma\\cyberbullying_tweets.csv')"
   ]
  },
  {
   "cell_type": "code",
   "execution_count": 5,
   "id": "59596a26",
   "metadata": {},
   "outputs": [
    {
     "name": "stdout",
     "output_type": "stream",
     "text": [
      "<class 'pandas.core.frame.DataFrame'>\n",
      "RangeIndex: 47692 entries, 0 to 47691\n",
      "Data columns (total 2 columns):\n",
      " #   Column              Non-Null Count  Dtype \n",
      "---  ------              --------------  ----- \n",
      " 0   tweet_text          47692 non-null  object\n",
      " 1   cyberbullying_type  47692 non-null  object\n",
      "dtypes: object(2)\n",
      "memory usage: 745.3+ KB\n"
     ]
    }
   ],
   "source": [
    "df.info()"
   ]
  },
  {
   "cell_type": "code",
   "execution_count": 6,
   "id": "ab0557b0",
   "metadata": {},
   "outputs": [
    {
     "data": {
      "text/html": [
       "<div>\n",
       "<style scoped>\n",
       "    .dataframe tbody tr th:only-of-type {\n",
       "        vertical-align: middle;\n",
       "    }\n",
       "\n",
       "    .dataframe tbody tr th {\n",
       "        vertical-align: top;\n",
       "    }\n",
       "\n",
       "    .dataframe thead th {\n",
       "        text-align: right;\n",
       "    }\n",
       "</style>\n",
       "<table border=\"1\" class=\"dataframe\">\n",
       "  <thead>\n",
       "    <tr style=\"text-align: right;\">\n",
       "      <th></th>\n",
       "      <th>tweet_text</th>\n",
       "      <th>cyberbullying_type</th>\n",
       "    </tr>\n",
       "  </thead>\n",
       "  <tbody>\n",
       "    <tr>\n",
       "      <th>0</th>\n",
       "      <td>In other words #katandandre, your food was cra...</td>\n",
       "      <td>not_cyberbullying</td>\n",
       "    </tr>\n",
       "    <tr>\n",
       "      <th>1</th>\n",
       "      <td>Why is #aussietv so white? #MKR #theblock #ImA...</td>\n",
       "      <td>not_cyberbullying</td>\n",
       "    </tr>\n",
       "    <tr>\n",
       "      <th>2</th>\n",
       "      <td>@XochitlSuckkks a classy whore? Or more red ve...</td>\n",
       "      <td>not_cyberbullying</td>\n",
       "    </tr>\n",
       "    <tr>\n",
       "      <th>3</th>\n",
       "      <td>@Jason_Gio meh. :P  thanks for the heads up, b...</td>\n",
       "      <td>not_cyberbullying</td>\n",
       "    </tr>\n",
       "    <tr>\n",
       "      <th>4</th>\n",
       "      <td>@RudhoeEnglish This is an ISIS account pretend...</td>\n",
       "      <td>not_cyberbullying</td>\n",
       "    </tr>\n",
       "  </tbody>\n",
       "</table>\n",
       "</div>"
      ],
      "text/plain": [
       "                                          tweet_text cyberbullying_type\n",
       "0  In other words #katandandre, your food was cra...  not_cyberbullying\n",
       "1  Why is #aussietv so white? #MKR #theblock #ImA...  not_cyberbullying\n",
       "2  @XochitlSuckkks a classy whore? Or more red ve...  not_cyberbullying\n",
       "3  @Jason_Gio meh. :P  thanks for the heads up, b...  not_cyberbullying\n",
       "4  @RudhoeEnglish This is an ISIS account pretend...  not_cyberbullying"
      ]
     },
     "execution_count": 6,
     "metadata": {},
     "output_type": "execute_result"
    }
   ],
   "source": [
    "df.head()"
   ]
  },
  {
   "cell_type": "code",
   "execution_count": 7,
   "id": "69411dd6",
   "metadata": {},
   "outputs": [
    {
     "data": {
      "text/html": [
       "<div>\n",
       "<style scoped>\n",
       "    .dataframe tbody tr th:only-of-type {\n",
       "        vertical-align: middle;\n",
       "    }\n",
       "\n",
       "    .dataframe tbody tr th {\n",
       "        vertical-align: top;\n",
       "    }\n",
       "\n",
       "    .dataframe thead th {\n",
       "        text-align: right;\n",
       "    }\n",
       "</style>\n",
       "<table border=\"1\" class=\"dataframe\">\n",
       "  <thead>\n",
       "    <tr style=\"text-align: right;\">\n",
       "      <th></th>\n",
       "      <th>tweet_text</th>\n",
       "      <th>cyberbullying_type</th>\n",
       "    </tr>\n",
       "  </thead>\n",
       "  <tbody>\n",
       "    <tr>\n",
       "      <th>47687</th>\n",
       "      <td>Black ppl aren't expected to do anything, depe...</td>\n",
       "      <td>ethnicity</td>\n",
       "    </tr>\n",
       "    <tr>\n",
       "      <th>47688</th>\n",
       "      <td>Turner did not withhold his disappointment. Tu...</td>\n",
       "      <td>ethnicity</td>\n",
       "    </tr>\n",
       "    <tr>\n",
       "      <th>47689</th>\n",
       "      <td>I swear to God. This dumb nigger bitch. I have...</td>\n",
       "      <td>ethnicity</td>\n",
       "    </tr>\n",
       "    <tr>\n",
       "      <th>47690</th>\n",
       "      <td>Yea fuck you RT @therealexel: IF YOURE A NIGGE...</td>\n",
       "      <td>ethnicity</td>\n",
       "    </tr>\n",
       "    <tr>\n",
       "      <th>47691</th>\n",
       "      <td>Bro. U gotta chill RT @CHILLShrammy: Dog FUCK ...</td>\n",
       "      <td>ethnicity</td>\n",
       "    </tr>\n",
       "  </tbody>\n",
       "</table>\n",
       "</div>"
      ],
      "text/plain": [
       "                                              tweet_text cyberbullying_type\n",
       "47687  Black ppl aren't expected to do anything, depe...          ethnicity\n",
       "47688  Turner did not withhold his disappointment. Tu...          ethnicity\n",
       "47689  I swear to God. This dumb nigger bitch. I have...          ethnicity\n",
       "47690  Yea fuck you RT @therealexel: IF YOURE A NIGGE...          ethnicity\n",
       "47691  Bro. U gotta chill RT @CHILLShrammy: Dog FUCK ...          ethnicity"
      ]
     },
     "execution_count": 7,
     "metadata": {},
     "output_type": "execute_result"
    }
   ],
   "source": [
    "df.tail()"
   ]
  },
  {
   "cell_type": "code",
   "execution_count": 8,
   "id": "e10e5148",
   "metadata": {},
   "outputs": [],
   "source": [
    "#checking missing values"
   ]
  },
  {
   "cell_type": "code",
   "execution_count": 9,
   "id": "abd4eb4b",
   "metadata": {},
   "outputs": [
    {
     "data": {
      "text/plain": [
       "tweet_text            0\n",
       "cyberbullying_type    0\n",
       "dtype: int64"
      ]
     },
     "execution_count": 9,
     "metadata": {},
     "output_type": "execute_result"
    }
   ],
   "source": [
    "df.isnull().sum() #no missing values"
   ]
  },
  {
   "cell_type": "code",
   "execution_count": 10,
   "id": "5ad41e11",
   "metadata": {},
   "outputs": [
    {
     "data": {
      "text/plain": [
       "religion               7998\n",
       "age                    7992\n",
       "gender                 7973\n",
       "ethnicity              7961\n",
       "not_cyberbullying      7945\n",
       "other_cyberbullying    7823\n",
       "Name: cyberbullying_type, dtype: int64"
      ]
     },
     "execution_count": 10,
     "metadata": {},
     "output_type": "execute_result"
    }
   ],
   "source": [
    "df['cyberbullying_type'].value_counts()"
   ]
  },
  {
   "cell_type": "code",
   "execution_count": 11,
   "id": "7412d955",
   "metadata": {},
   "outputs": [],
   "source": [
    "#renaming"
   ]
  },
  {
   "cell_type": "code",
   "execution_count": 12,
   "id": "bf11075b",
   "metadata": {},
   "outputs": [],
   "source": [
    "#cleaning and data processing"
   ]
  },
  {
   "cell_type": "code",
   "execution_count": 13,
   "id": "0ccd53bb",
   "metadata": {},
   "outputs": [],
   "source": [
    "df=df.rename(columns={\n",
    "    'tweet_text':'text','cyberbullying_type':'sentiment'\n",
    "})"
   ]
  },
  {
   "cell_type": "code",
   "execution_count": 14,
   "id": "973206e6",
   "metadata": {},
   "outputs": [
    {
     "data": {
      "text/html": [
       "<div>\n",
       "<style scoped>\n",
       "    .dataframe tbody tr th:only-of-type {\n",
       "        vertical-align: middle;\n",
       "    }\n",
       "\n",
       "    .dataframe tbody tr th {\n",
       "        vertical-align: top;\n",
       "    }\n",
       "\n",
       "    .dataframe thead th {\n",
       "        text-align: right;\n",
       "    }\n",
       "</style>\n",
       "<table border=\"1\" class=\"dataframe\">\n",
       "  <thead>\n",
       "    <tr style=\"text-align: right;\">\n",
       "      <th></th>\n",
       "      <th>text</th>\n",
       "      <th>sentiment</th>\n",
       "    </tr>\n",
       "  </thead>\n",
       "  <tbody>\n",
       "    <tr>\n",
       "      <th>0</th>\n",
       "      <td>In other words #katandandre, your food was cra...</td>\n",
       "      <td>not_cyberbullying</td>\n",
       "    </tr>\n",
       "    <tr>\n",
       "      <th>1</th>\n",
       "      <td>Why is #aussietv so white? #MKR #theblock #ImA...</td>\n",
       "      <td>not_cyberbullying</td>\n",
       "    </tr>\n",
       "    <tr>\n",
       "      <th>2</th>\n",
       "      <td>@XochitlSuckkks a classy whore? Or more red ve...</td>\n",
       "      <td>not_cyberbullying</td>\n",
       "    </tr>\n",
       "    <tr>\n",
       "      <th>3</th>\n",
       "      <td>@Jason_Gio meh. :P  thanks for the heads up, b...</td>\n",
       "      <td>not_cyberbullying</td>\n",
       "    </tr>\n",
       "    <tr>\n",
       "      <th>4</th>\n",
       "      <td>@RudhoeEnglish This is an ISIS account pretend...</td>\n",
       "      <td>not_cyberbullying</td>\n",
       "    </tr>\n",
       "  </tbody>\n",
       "</table>\n",
       "</div>"
      ],
      "text/plain": [
       "                                                text          sentiment\n",
       "0  In other words #katandandre, your food was cra...  not_cyberbullying\n",
       "1  Why is #aussietv so white? #MKR #theblock #ImA...  not_cyberbullying\n",
       "2  @XochitlSuckkks a classy whore? Or more red ve...  not_cyberbullying\n",
       "3  @Jason_Gio meh. :P  thanks for the heads up, b...  not_cyberbullying\n",
       "4  @RudhoeEnglish This is an ISIS account pretend...  not_cyberbullying"
      ]
     },
     "execution_count": 14,
     "metadata": {},
     "output_type": "execute_result"
    }
   ],
   "source": [
    "df.head()"
   ]
  },
  {
   "cell_type": "code",
   "execution_count": 15,
   "id": "ee981029",
   "metadata": {},
   "outputs": [],
   "source": [
    "df['sentiment_encoded']=df['sentiment'].replace({\n",
    "    'religion':0,\n",
    "    'age':1,\n",
    "    'ethnicity':2,\n",
    "    'gender':3,\n",
    "    'other_cyberbullying':4,\n",
    "    'not_cyberbullying':5,\n",
    "})"
   ]
  },
  {
   "cell_type": "code",
   "execution_count": 16,
   "id": "bbe327dc",
   "metadata": {},
   "outputs": [
    {
     "data": {
      "text/html": [
       "<div>\n",
       "<style scoped>\n",
       "    .dataframe tbody tr th:only-of-type {\n",
       "        vertical-align: middle;\n",
       "    }\n",
       "\n",
       "    .dataframe tbody tr th {\n",
       "        vertical-align: top;\n",
       "    }\n",
       "\n",
       "    .dataframe thead th {\n",
       "        text-align: right;\n",
       "    }\n",
       "</style>\n",
       "<table border=\"1\" class=\"dataframe\">\n",
       "  <thead>\n",
       "    <tr style=\"text-align: right;\">\n",
       "      <th></th>\n",
       "      <th>text</th>\n",
       "      <th>sentiment</th>\n",
       "      <th>sentiment_encoded</th>\n",
       "    </tr>\n",
       "  </thead>\n",
       "  <tbody>\n",
       "    <tr>\n",
       "      <th>47687</th>\n",
       "      <td>Black ppl aren't expected to do anything, depe...</td>\n",
       "      <td>ethnicity</td>\n",
       "      <td>2</td>\n",
       "    </tr>\n",
       "    <tr>\n",
       "      <th>47688</th>\n",
       "      <td>Turner did not withhold his disappointment. Tu...</td>\n",
       "      <td>ethnicity</td>\n",
       "      <td>2</td>\n",
       "    </tr>\n",
       "    <tr>\n",
       "      <th>47689</th>\n",
       "      <td>I swear to God. This dumb nigger bitch. I have...</td>\n",
       "      <td>ethnicity</td>\n",
       "      <td>2</td>\n",
       "    </tr>\n",
       "    <tr>\n",
       "      <th>47690</th>\n",
       "      <td>Yea fuck you RT @therealexel: IF YOURE A NIGGE...</td>\n",
       "      <td>ethnicity</td>\n",
       "      <td>2</td>\n",
       "    </tr>\n",
       "    <tr>\n",
       "      <th>47691</th>\n",
       "      <td>Bro. U gotta chill RT @CHILLShrammy: Dog FUCK ...</td>\n",
       "      <td>ethnicity</td>\n",
       "      <td>2</td>\n",
       "    </tr>\n",
       "  </tbody>\n",
       "</table>\n",
       "</div>"
      ],
      "text/plain": [
       "                                                    text  sentiment  \\\n",
       "47687  Black ppl aren't expected to do anything, depe...  ethnicity   \n",
       "47688  Turner did not withhold his disappointment. Tu...  ethnicity   \n",
       "47689  I swear to God. This dumb nigger bitch. I have...  ethnicity   \n",
       "47690  Yea fuck you RT @therealexel: IF YOURE A NIGGE...  ethnicity   \n",
       "47691  Bro. U gotta chill RT @CHILLShrammy: Dog FUCK ...  ethnicity   \n",
       "\n",
       "       sentiment_encoded  \n",
       "47687                  2  \n",
       "47688                  2  \n",
       "47689                  2  \n",
       "47690                  2  \n",
       "47691                  2  "
      ]
     },
     "execution_count": 16,
     "metadata": {},
     "output_type": "execute_result"
    }
   ],
   "source": [
    "df.tail()"
   ]
  },
  {
   "cell_type": "code",
   "execution_count": 17,
   "id": "6f7ab1b2",
   "metadata": {},
   "outputs": [],
   "source": [
    "#nltk.download('stopwords')"
   ]
  },
  {
   "cell_type": "code",
   "execution_count": 18,
   "id": "f89ec9e9",
   "metadata": {
    "scrolled": true
   },
   "outputs": [
    {
     "name": "stderr",
     "output_type": "stream",
     "text": [
      "[nltk_data] Error loading punkt: <urlopen error [WinError 10060] A\n",
      "[nltk_data]     connection attempt failed because the connected party\n",
      "[nltk_data]     did not properly respond after a period of time, or\n",
      "[nltk_data]     established connection failed because connected host\n",
      "[nltk_data]     has failed to respond>\n"
     ]
    },
    {
     "data": {
      "text/plain": [
       "False"
      ]
     },
     "execution_count": 18,
     "metadata": {},
     "output_type": "execute_result"
    }
   ],
   "source": [
    "nltk.download('punkt')"
   ]
  },
  {
   "cell_type": "code",
   "execution_count": 19,
   "id": "0c84d263",
   "metadata": {},
   "outputs": [
    {
     "name": "stderr",
     "output_type": "stream",
     "text": [
      "[nltk_data] Error loading wordnet: <urlopen error [WinError 10060] A\n",
      "[nltk_data]     connection attempt failed because the connected party\n",
      "[nltk_data]     did not properly respond after a period of time, or\n",
      "[nltk_data]     established connection failed because connected host\n",
      "[nltk_data]     has failed to respond>\n"
     ]
    },
    {
     "data": {
      "text/plain": [
       "False"
      ]
     },
     "execution_count": 19,
     "metadata": {},
     "output_type": "execute_result"
    }
   ],
   "source": [
    "nltk.download('wordnet')"
   ]
  },
  {
   "cell_type": "code",
   "execution_count": 20,
   "id": "5055468f",
   "metadata": {},
   "outputs": [],
   "source": [
    "stop_words = set(stopwords.words('english'))"
   ]
  },
  {
   "cell_type": "code",
   "execution_count": 21,
   "id": "f4ed81a5",
   "metadata": {},
   "outputs": [],
   "source": [
    "#preprocessing of text"
   ]
  },
  {
   "cell_type": "code",
   "execution_count": 22,
   "id": "9b2fc5a9",
   "metadata": {},
   "outputs": [],
   "source": [
    "# function to remove emojis\n",
    "\n",
    "def strip_emoji(text):\n",
    "    return emoji.replace_emoji(text,replace=\"\")"
   ]
  },
  {
   "cell_type": "code",
   "execution_count": 23,
   "id": "c16a6d43",
   "metadata": {},
   "outputs": [],
   "source": [
    "# function to convert text to lowercase, remove (unwanted characters, urls, numbers, stopwords)\n",
    "\n",
    "def strip_all_entities(text):\n",
    "    \n",
    "    text= text.replace('\\r', '').replace('\\n','').lower()\n",
    "    text= re.sub(r\"(?:\\@|https?|-\\://)\\S+\",'',text)\n",
    "    text= re.sub(r\"[^\\x00-\\x7f]\",r'',text)\n",
    "    text= re.sub('[0-9]+','',text)\n",
    "    \n",
    "    stopchars =string.punctuation\n",
    "    table=str.maketrans('','',stopchars)\n",
    "    text=text.translate(table)\n",
    "    \n",
    "    text=[word for word in text.split() if word not in stop_words]\n",
    "    text =' '.join(text)\n",
    "    \n",
    "    return text"
   ]
  },
  {
   "cell_type": "code",
   "execution_count": 24,
   "id": "4b4b0f88",
   "metadata": {},
   "outputs": [],
   "source": [
    "#function to remove contractions\n",
    "\n",
    "def decontract(text):\n",
    "    \n",
    "    text=re.sub(r\"cant\\'t'\" ,\"can not\", text)\n",
    "    text = re.sub(r\"n\\'t\", \" not\", text)\n",
    "    text = re.sub(r\"\\'re\", \" are\", text)\n",
    "    text = re.sub(r\"\\'s\", \" is\", text)\n",
    "    text = re.sub(r\"\\'d\", \" would\", text)\n",
    "    text = re.sub(r\"\\'ll\", \" will\", text)\n",
    "    text = re.sub(r\"\\'t\", \" not\", text)\n",
    "    text = re.sub(r\"\\'ve\", \" have\", text)\n",
    "    text = re.sub(r\"\\'m\", \" am\", text)\n",
    "    \n",
    "    return text"
   ]
  },
  {
   "cell_type": "code",
   "execution_count": 25,
   "id": "5aaac466",
   "metadata": {},
   "outputs": [],
   "source": [
    "# funtion to clean hashtags\n",
    "\n",
    "def clean_hashtags(tweet):\n",
    "    new_tweet =\" \".join(word.strip() for word in re.split('#(?!(?:hashtag)\\b)[\\w-]+(?=(?:\\s+#[\\w-]+)*\\s*$)', tweet))\n",
    "    new_tweet2 = \" \".join(word.strip() for word in re.split('#|_', new_tweet))\n",
    "    \n",
    "    return new_tweet2"
   ]
  },
  {
   "cell_type": "code",
   "execution_count": 26,
   "id": "e8bb6c0e",
   "metadata": {},
   "outputs": [],
   "source": [
    "# function to filter special characters\n",
    "\n",
    "def filter_chars(a):\n",
    "    sent = []\n",
    "    for word in a.split(' '):\n",
    "        if('$' in word) | ('&' in word):\n",
    "            sent.append('')\n",
    "        else:\n",
    "            sent.append(word)        \n",
    "    return ' '.join(sent)"
   ]
  },
  {
   "cell_type": "code",
   "execution_count": 27,
   "id": "d8e01f16",
   "metadata": {},
   "outputs": [],
   "source": [
    "# removing sequences and applying stemming\n",
    "\n",
    "def remove_mult_spaces(text):\n",
    "    return re.sub(\"\\s\\s+\" , \" \",text)\n",
    "\n",
    "def stemmer(text):\n",
    "    tokenized = nltk.word_tokenize(text)\n",
    "    ps = PorterStemmer()\n",
    "    return ' '.join([ps.stem(words) for words in tokenized])\n",
    "\n",
    "def lemmatize(text):\n",
    "    tokenized = nltk.word_tokenize(text)\n",
    "    lm = WordNetLemmatizer()\n",
    "    return ' '.join([lm.lemmatize(words) for words in tokenized])"
   ]
  },
  {
   "cell_type": "code",
   "execution_count": 28,
   "id": "8f213af5",
   "metadata": {},
   "outputs": [],
   "source": [
    "# using all functions\n",
    "\n",
    "def preprocess(text):\n",
    "    text = strip_emoji(text)\n",
    "    text = strip_all_entities(text)\n",
    "    text = decontract(text)\n",
    "    text = clean_hashtags(text)\n",
    "    text = filter_chars(text)\n",
    "    text = remove_mult_spaces(text)\n",
    "    text = stemmer(text)\n",
    "    text = lemmatize(text)\n",
    "    \n",
    "    return text"
   ]
  },
  {
   "cell_type": "code",
   "execution_count": 29,
   "id": "27270299",
   "metadata": {},
   "outputs": [
    {
     "data": {
      "text/html": [
       "<div>\n",
       "<style scoped>\n",
       "    .dataframe tbody tr th:only-of-type {\n",
       "        vertical-align: middle;\n",
       "    }\n",
       "\n",
       "    .dataframe tbody tr th {\n",
       "        vertical-align: top;\n",
       "    }\n",
       "\n",
       "    .dataframe thead th {\n",
       "        text-align: right;\n",
       "    }\n",
       "</style>\n",
       "<table border=\"1\" class=\"dataframe\">\n",
       "  <thead>\n",
       "    <tr style=\"text-align: right;\">\n",
       "      <th></th>\n",
       "      <th>text</th>\n",
       "      <th>sentiment</th>\n",
       "      <th>sentiment_encoded</th>\n",
       "      <th>cleaned_text</th>\n",
       "    </tr>\n",
       "  </thead>\n",
       "  <tbody>\n",
       "    <tr>\n",
       "      <th>0</th>\n",
       "      <td>In other words #katandandre, your food was cra...</td>\n",
       "      <td>not_cyberbullying</td>\n",
       "      <td>5</td>\n",
       "      <td>word katandandr food crapilici mkr</td>\n",
       "    </tr>\n",
       "    <tr>\n",
       "      <th>1</th>\n",
       "      <td>Why is #aussietv so white? #MKR #theblock #ImA...</td>\n",
       "      <td>not_cyberbullying</td>\n",
       "      <td>5</td>\n",
       "      <td>aussietv white mkr theblock imacelebrityau tod...</td>\n",
       "    </tr>\n",
       "    <tr>\n",
       "      <th>2</th>\n",
       "      <td>@XochitlSuckkks a classy whore? Or more red ve...</td>\n",
       "      <td>not_cyberbullying</td>\n",
       "      <td>5</td>\n",
       "      <td>classi whore red velvet cupcak</td>\n",
       "    </tr>\n",
       "    <tr>\n",
       "      <th>3</th>\n",
       "      <td>@Jason_Gio meh. :P  thanks for the heads up, b...</td>\n",
       "      <td>not_cyberbullying</td>\n",
       "      <td>5</td>\n",
       "      <td>meh p thank head concern anoth angri dude twitter</td>\n",
       "    </tr>\n",
       "    <tr>\n",
       "      <th>4</th>\n",
       "      <td>@RudhoeEnglish This is an ISIS account pretend...</td>\n",
       "      <td>not_cyberbullying</td>\n",
       "      <td>5</td>\n",
       "      <td>isi account pretend kurdish account like islam...</td>\n",
       "    </tr>\n",
       "  </tbody>\n",
       "</table>\n",
       "</div>"
      ],
      "text/plain": [
       "                                                text          sentiment  \\\n",
       "0  In other words #katandandre, your food was cra...  not_cyberbullying   \n",
       "1  Why is #aussietv so white? #MKR #theblock #ImA...  not_cyberbullying   \n",
       "2  @XochitlSuckkks a classy whore? Or more red ve...  not_cyberbullying   \n",
       "3  @Jason_Gio meh. :P  thanks for the heads up, b...  not_cyberbullying   \n",
       "4  @RudhoeEnglish This is an ISIS account pretend...  not_cyberbullying   \n",
       "\n",
       "   sentiment_encoded                                       cleaned_text  \n",
       "0                  5                 word katandandr food crapilici mkr  \n",
       "1                  5  aussietv white mkr theblock imacelebrityau tod...  \n",
       "2                  5                     classi whore red velvet cupcak  \n",
       "3                  5  meh p thank head concern anoth angri dude twitter  \n",
       "4                  5  isi account pretend kurdish account like islam...  "
      ]
     },
     "execution_count": 29,
     "metadata": {},
     "output_type": "execute_result"
    }
   ],
   "source": [
    "df['cleaned_text'] = df['text'].apply(preprocess)\n",
    "df.head()"
   ]
  },
  {
   "cell_type": "code",
   "execution_count": 30,
   "id": "b883511a",
   "metadata": {},
   "outputs": [
    {
     "data": {
      "text/plain": [
       "3011"
      ]
     },
     "execution_count": 30,
     "metadata": {},
     "output_type": "execute_result"
    }
   ],
   "source": [
    "# dealing with duplicates\n",
    "\n",
    "df['cleaned_text'].duplicated().sum()"
   ]
  },
  {
   "cell_type": "code",
   "execution_count": 31,
   "id": "a92fe060",
   "metadata": {},
   "outputs": [],
   "source": [
    "df.drop_duplicates('cleaned_text' ,inplace=True)"
   ]
  },
  {
   "cell_type": "code",
   "execution_count": 32,
   "id": "dfa27785",
   "metadata": {},
   "outputs": [
    {
     "data": {
      "text/html": [
       "<div>\n",
       "<style scoped>\n",
       "    .dataframe tbody tr th:only-of-type {\n",
       "        vertical-align: middle;\n",
       "    }\n",
       "\n",
       "    .dataframe tbody tr th {\n",
       "        vertical-align: top;\n",
       "    }\n",
       "\n",
       "    .dataframe thead th {\n",
       "        text-align: right;\n",
       "    }\n",
       "</style>\n",
       "<table border=\"1\" class=\"dataframe\">\n",
       "  <thead>\n",
       "    <tr style=\"text-align: right;\">\n",
       "      <th></th>\n",
       "      <th>text</th>\n",
       "      <th>sentiment</th>\n",
       "      <th>sentiment_encoded</th>\n",
       "      <th>cleaned_text</th>\n",
       "      <th>tweet_list</th>\n",
       "    </tr>\n",
       "  </thead>\n",
       "  <tbody>\n",
       "    <tr>\n",
       "      <th>0</th>\n",
       "      <td>In other words #katandandre, your food was cra...</td>\n",
       "      <td>not_cyberbullying</td>\n",
       "      <td>5</td>\n",
       "      <td>word katandandr food crapilici mkr</td>\n",
       "      <td>[word, katandandr, food, crapilici, mkr]</td>\n",
       "    </tr>\n",
       "    <tr>\n",
       "      <th>1</th>\n",
       "      <td>Why is #aussietv so white? #MKR #theblock #ImA...</td>\n",
       "      <td>not_cyberbullying</td>\n",
       "      <td>5</td>\n",
       "      <td>aussietv white mkr theblock imacelebrityau tod...</td>\n",
       "      <td>[aussietv, white, mkr, theblock, imacelebritya...</td>\n",
       "    </tr>\n",
       "    <tr>\n",
       "      <th>2</th>\n",
       "      <td>@XochitlSuckkks a classy whore? Or more red ve...</td>\n",
       "      <td>not_cyberbullying</td>\n",
       "      <td>5</td>\n",
       "      <td>classi whore red velvet cupcak</td>\n",
       "      <td>[classi, whore, red, velvet, cupcak]</td>\n",
       "    </tr>\n",
       "    <tr>\n",
       "      <th>3</th>\n",
       "      <td>@Jason_Gio meh. :P  thanks for the heads up, b...</td>\n",
       "      <td>not_cyberbullying</td>\n",
       "      <td>5</td>\n",
       "      <td>meh p thank head concern anoth angri dude twitter</td>\n",
       "      <td>[meh, p, thank, head, concern, anoth, angri, d...</td>\n",
       "    </tr>\n",
       "    <tr>\n",
       "      <th>4</th>\n",
       "      <td>@RudhoeEnglish This is an ISIS account pretend...</td>\n",
       "      <td>not_cyberbullying</td>\n",
       "      <td>5</td>\n",
       "      <td>isi account pretend kurdish account like islam...</td>\n",
       "      <td>[isi, account, pretend, kurdish, account, like...</td>\n",
       "    </tr>\n",
       "  </tbody>\n",
       "</table>\n",
       "</div>"
      ],
      "text/plain": [
       "                                                text          sentiment  \\\n",
       "0  In other words #katandandre, your food was cra...  not_cyberbullying   \n",
       "1  Why is #aussietv so white? #MKR #theblock #ImA...  not_cyberbullying   \n",
       "2  @XochitlSuckkks a classy whore? Or more red ve...  not_cyberbullying   \n",
       "3  @Jason_Gio meh. :P  thanks for the heads up, b...  not_cyberbullying   \n",
       "4  @RudhoeEnglish This is an ISIS account pretend...  not_cyberbullying   \n",
       "\n",
       "   sentiment_encoded                                       cleaned_text  \\\n",
       "0                  5                 word katandandr food crapilici mkr   \n",
       "1                  5  aussietv white mkr theblock imacelebrityau tod...   \n",
       "2                  5                     classi whore red velvet cupcak   \n",
       "3                  5  meh p thank head concern anoth angri dude twitter   \n",
       "4                  5  isi account pretend kurdish account like islam...   \n",
       "\n",
       "                                          tweet_list  \n",
       "0           [word, katandandr, food, crapilici, mkr]  \n",
       "1  [aussietv, white, mkr, theblock, imacelebritya...  \n",
       "2               [classi, whore, red, velvet, cupcak]  \n",
       "3  [meh, p, thank, head, concern, anoth, angri, d...  \n",
       "4  [isi, account, pretend, kurdish, account, like...  "
      ]
     },
     "execution_count": 32,
     "metadata": {},
     "output_type": "execute_result"
    }
   ],
   "source": [
    "#tokenization\n",
    "\n",
    "df['tweet_list']=df['cleaned_text'].apply(word_tokenize)\n",
    "\n",
    "df.head()"
   ]
  },
  {
   "cell_type": "code",
   "execution_count": 33,
   "id": "7c661ca8",
   "metadata": {},
   "outputs": [],
   "source": [
    "#EDA\n",
    "#checking length of various tweet text\n",
    "\n",
    "text_len = []\n",
    "for text in df.tweet_list:\n",
    "    tweet_len = len(text)\n",
    "    text_len.append(tweet_len)\n",
    "    \n",
    "df['text_len'] = text_len"
   ]
  },
  {
   "cell_type": "code",
   "execution_count": 34,
   "id": "c1364b2f",
   "metadata": {},
   "outputs": [],
   "source": [
    "# removing text without words\n",
    "\n",
    "df = df[df['text_len']!=0]"
   ]
  },
  {
   "cell_type": "code",
   "execution_count": 35,
   "id": "3f146a5e",
   "metadata": {},
   "outputs": [
    {
     "data": {
      "text/plain": [
       "(44680, 6)"
      ]
     },
     "execution_count": 35,
     "metadata": {},
     "output_type": "execute_result"
    }
   ],
   "source": [
    "df.shape"
   ]
  },
  {
   "cell_type": "code",
   "execution_count": 36,
   "id": "6053d30b",
   "metadata": {},
   "outputs": [],
   "source": [
    "# function to create a word cloud\n",
    "\n",
    "def plot_wordcloud(cyberbullying_type):\n",
    "    string = \"\"\n",
    "    for i in df[df.sentiment == cyberbullying_type].cleaned_text.values:\n",
    "        string = string + \" \" + i.strip()\n",
    "        \n",
    "    wordcloud = WordCloud(background_color = 'white',max_words=2000, max_font_size=256,random_state=42).generate(string)\n",
    "    \n",
    "    \n",
    "#plot the wordcloud image\n",
    "\n",
    "    plt.figure(figsize = (8,8), facecolor = None)\n",
    "    plt.imshow(wordcloud)\n",
    "    plt.axis(\"off\")\n",
    "    plt.tight_layout(pad = 0)\n",
    "    plt.title(cyberbullying_type)\n",
    "    plt.show()\n",
    "    del string"
   ]
  },
  {
   "cell_type": "code",
   "execution_count": 37,
   "id": "9c627823",
   "metadata": {},
   "outputs": [],
   "source": [
    "#splitting data based on sentiment for EDA\n",
    "\n",
    "not_cyberbullying_type = df[df['sentiment']=='not_cyberbullying']\n",
    "gender_type = df[df['sentiment']=='gender']\n",
    "religion_type = df[df['sentiment']=='religion']\n",
    "other_cyberbullying_type = df[df['sentiment']=='other_cyberbullying']\n",
    "age_type = df[df['sentiment']=='age']\n",
    "ethnicity_type = df[df['sentiment']=='ethnicity']"
   ]
  },
  {
   "cell_type": "code",
   "execution_count": 38,
   "id": "c4bf1382",
   "metadata": {},
   "outputs": [],
   "source": [
    "#EDA"
   ]
  },
  {
   "cell_type": "code",
   "execution_count": 39,
   "id": "7bbed952",
   "metadata": {},
   "outputs": [
    {
     "data": {
      "text/html": [
       "<div>\n",
       "<style scoped>\n",
       "    .dataframe tbody tr th:only-of-type {\n",
       "        vertical-align: middle;\n",
       "    }\n",
       "\n",
       "    .dataframe tbody tr th {\n",
       "        vertical-align: top;\n",
       "    }\n",
       "\n",
       "    .dataframe thead th {\n",
       "        text-align: right;\n",
       "    }\n",
       "</style>\n",
       "<table border=\"1\" class=\"dataframe\">\n",
       "  <thead>\n",
       "    <tr style=\"text-align: right;\">\n",
       "      <th></th>\n",
       "      <th>Top Words</th>\n",
       "      <th>Count</th>\n",
       "    </tr>\n",
       "  </thead>\n",
       "  <tbody>\n",
       "    <tr>\n",
       "      <th>0</th>\n",
       "      <td>joke</td>\n",
       "      <td>5173</td>\n",
       "    </tr>\n",
       "    <tr>\n",
       "      <th>1</th>\n",
       "      <td>rape</td>\n",
       "      <td>4066</td>\n",
       "    </tr>\n",
       "    <tr>\n",
       "      <th>2</th>\n",
       "      <td>gay</td>\n",
       "      <td>3847</td>\n",
       "    </tr>\n",
       "    <tr>\n",
       "      <th>3</th>\n",
       "      <td>call</td>\n",
       "      <td>1401</td>\n",
       "    </tr>\n",
       "    <tr>\n",
       "      <th>4</th>\n",
       "      <td>make</td>\n",
       "      <td>1288</td>\n",
       "    </tr>\n",
       "    <tr>\n",
       "      <th>5</th>\n",
       "      <td>rt</td>\n",
       "      <td>1218</td>\n",
       "    </tr>\n",
       "    <tr>\n",
       "      <th>6</th>\n",
       "      <td>woman</td>\n",
       "      <td>1181</td>\n",
       "    </tr>\n",
       "    <tr>\n",
       "      <th>7</th>\n",
       "      <td>bitch</td>\n",
       "      <td>1145</td>\n",
       "    </tr>\n",
       "    <tr>\n",
       "      <th>8</th>\n",
       "      <td>femal</td>\n",
       "      <td>1108</td>\n",
       "    </tr>\n",
       "    <tr>\n",
       "      <th>9</th>\n",
       "      <td>im</td>\n",
       "      <td>1083</td>\n",
       "    </tr>\n",
       "    <tr>\n",
       "      <th>10</th>\n",
       "      <td>peopl</td>\n",
       "      <td>987</td>\n",
       "    </tr>\n",
       "    <tr>\n",
       "      <th>11</th>\n",
       "      <td>like</td>\n",
       "      <td>977</td>\n",
       "    </tr>\n",
       "    <tr>\n",
       "      <th>12</th>\n",
       "      <td>sexist</td>\n",
       "      <td>953</td>\n",
       "    </tr>\n",
       "    <tr>\n",
       "      <th>13</th>\n",
       "      <td>dont</td>\n",
       "      <td>900</td>\n",
       "    </tr>\n",
       "    <tr>\n",
       "      <th>14</th>\n",
       "      <td>mkr</td>\n",
       "      <td>658</td>\n",
       "    </tr>\n",
       "    <tr>\n",
       "      <th>15</th>\n",
       "      <td>funni</td>\n",
       "      <td>653</td>\n",
       "    </tr>\n",
       "    <tr>\n",
       "      <th>16</th>\n",
       "      <td>men</td>\n",
       "      <td>614</td>\n",
       "    </tr>\n",
       "    <tr>\n",
       "      <th>17</th>\n",
       "      <td>say</td>\n",
       "      <td>592</td>\n",
       "    </tr>\n",
       "    <tr>\n",
       "      <th>18</th>\n",
       "      <td>think</td>\n",
       "      <td>589</td>\n",
       "    </tr>\n",
       "    <tr>\n",
       "      <th>19</th>\n",
       "      <td>get</td>\n",
       "      <td>555</td>\n",
       "    </tr>\n",
       "    <tr>\n",
       "      <th>20</th>\n",
       "      <td>fuck</td>\n",
       "      <td>548</td>\n",
       "    </tr>\n",
       "    <tr>\n",
       "      <th>21</th>\n",
       "      <td>use</td>\n",
       "      <td>441</td>\n",
       "    </tr>\n",
       "    <tr>\n",
       "      <th>22</th>\n",
       "      <td>amp</td>\n",
       "      <td>441</td>\n",
       "    </tr>\n",
       "    <tr>\n",
       "      <th>23</th>\n",
       "      <td>one</td>\n",
       "      <td>429</td>\n",
       "    </tr>\n",
       "    <tr>\n",
       "      <th>24</th>\n",
       "      <td>girl</td>\n",
       "      <td>428</td>\n",
       "    </tr>\n",
       "  </tbody>\n",
       "</table>\n",
       "</div>"
      ],
      "text/plain": [
       "   Top Words  Count\n",
       "0       joke   5173\n",
       "1       rape   4066\n",
       "2        gay   3847\n",
       "3       call   1401\n",
       "4       make   1288\n",
       "5         rt   1218\n",
       "6      woman   1181\n",
       "7      bitch   1145\n",
       "8      femal   1108\n",
       "9         im   1083\n",
       "10     peopl    987\n",
       "11      like    977\n",
       "12    sexist    953\n",
       "13      dont    900\n",
       "14       mkr    658\n",
       "15     funni    653\n",
       "16       men    614\n",
       "17       say    592\n",
       "18     think    589\n",
       "19       get    555\n",
       "20      fuck    548\n",
       "21       use    441\n",
       "22       amp    441\n",
       "23       one    429\n",
       "24      girl    428"
      ]
     },
     "execution_count": 39,
     "metadata": {},
     "output_type": "execute_result"
    }
   ],
   "source": [
    "gender = Counter([item for sublist in gender_type['tweet_list'] for item in sublist])\n",
    "top25_gender = pd.DataFrame(gender.most_common(25))\n",
    "top25_gender.columns = ['Top Words','Count']\n",
    "top25_gender.head(25)"
   ]
  },
  {
   "cell_type": "code",
   "execution_count": 40,
   "id": "28f1dbe3",
   "metadata": {},
   "outputs": [
    {
     "data": {
      "text/plain": [
       "Text(0.5, 1.0, 'Top 25 words in Gender Cyberbullying')"
      ]
     },
     "execution_count": 40,
     "metadata": {},
     "output_type": "execute_result"
    },
    {
     "data": {
      "image/png": "[encoded data removed]",
      "text/plain": [
       "<Figure size 1080x576 with 1 Axes>"
      ]
     },
     "metadata": {
      "needs_background": "light"
     },
     "output_type": "display_data"
    }
   ],
   "source": [
    "fig = plt.figure(figsize=(15,8))\n",
    "sns.barplot(data=top25_gender, y=\"Count\", x=\"Top Words\")\n",
    "plt.title(\"Top 25 words in Gender Cyberbullying\")"
   ]
  },
  {
   "cell_type": "code",
   "execution_count": 41,
   "id": "75f8228e",
   "metadata": {},
   "outputs": [
    {
     "data": {
      "text/html": [
       "<style  type=\"text/css\" >\n",
       "#T_d23c0eba_89ee_11ee_b869_dde84d46429brow0_col1{\n",
       "            background-color:  #00441b;\n",
       "            color:  #f1f1f1;\n",
       "        }#T_d23c0eba_89ee_11ee_b869_dde84d46429brow1_col1{\n",
       "            background-color:  #45ad5f;\n",
       "            color:  #000000;\n",
       "        }#T_d23c0eba_89ee_11ee_b869_dde84d46429brow2_col1{\n",
       "            background-color:  #84cc83;\n",
       "            color:  #000000;\n",
       "        }#T_d23c0eba_89ee_11ee_b869_dde84d46429brow3_col1{\n",
       "            background-color:  #9fd899;\n",
       "            color:  #000000;\n",
       "        }#T_d23c0eba_89ee_11ee_b869_dde84d46429brow4_col1{\n",
       "            background-color:  #b0dfaa;\n",
       "            color:  #000000;\n",
       "        }#T_d23c0eba_89ee_11ee_b869_dde84d46429brow5_col1{\n",
       "            background-color:  #d5efcf;\n",
       "            color:  #000000;\n",
       "        }#T_d23c0eba_89ee_11ee_b869_dde84d46429brow6_col1{\n",
       "            background-color:  #dbf1d5;\n",
       "            color:  #000000;\n",
       "        }#T_d23c0eba_89ee_11ee_b869_dde84d46429brow7_col1{\n",
       "            background-color:  #dbf1d6;\n",
       "            color:  #000000;\n",
       "        }#T_d23c0eba_89ee_11ee_b869_dde84d46429brow8_col1{\n",
       "            background-color:  #dcf2d7;\n",
       "            color:  #000000;\n",
       "        }#T_d23c0eba_89ee_11ee_b869_dde84d46429brow9_col1{\n",
       "            background-color:  #ddf2d8;\n",
       "            color:  #000000;\n",
       "        }#T_d23c0eba_89ee_11ee_b869_dde84d46429brow10_col1{\n",
       "            background-color:  #e0f3db;\n",
       "            color:  #000000;\n",
       "        }#T_d23c0eba_89ee_11ee_b869_dde84d46429brow11_col1{\n",
       "            background-color:  #e1f3dc;\n",
       "            color:  #000000;\n",
       "        }#T_d23c0eba_89ee_11ee_b869_dde84d46429brow12_col1{\n",
       "            background-color:  #e5f5e0;\n",
       "            color:  #000000;\n",
       "        }#T_d23c0eba_89ee_11ee_b869_dde84d46429brow13_col1{\n",
       "            background-color:  #e7f6e2;\n",
       "            color:  #000000;\n",
       "        }#T_d23c0eba_89ee_11ee_b869_dde84d46429brow14_col1{\n",
       "            background-color:  #f0f9ec;\n",
       "            color:  #000000;\n",
       "        }#T_d23c0eba_89ee_11ee_b869_dde84d46429brow15_col1{\n",
       "            background-color:  #f1faee;\n",
       "            color:  #000000;\n",
       "        }#T_d23c0eba_89ee_11ee_b869_dde84d46429brow16_col1{\n",
       "            background-color:  #f2faef;\n",
       "            color:  #000000;\n",
       "        }#T_d23c0eba_89ee_11ee_b869_dde84d46429brow17_col1{\n",
       "            background-color:  #f2faf0;\n",
       "            color:  #000000;\n",
       "        }#T_d23c0eba_89ee_11ee_b869_dde84d46429brow18_col1{\n",
       "            background-color:  #f4fbf1;\n",
       "            color:  #000000;\n",
       "        }#T_d23c0eba_89ee_11ee_b869_dde84d46429brow19_col1{\n",
       "            background-color:  #f4fbf2;\n",
       "            color:  #000000;\n",
       "        }#T_d23c0eba_89ee_11ee_b869_dde84d46429brow20_col1,#T_d23c0eba_89ee_11ee_b869_dde84d46429brow21_col1{\n",
       "            background-color:  #f5fbf3;\n",
       "            color:  #000000;\n",
       "        }#T_d23c0eba_89ee_11ee_b869_dde84d46429brow22_col1{\n",
       "            background-color:  #f6fcf4;\n",
       "            color:  #000000;\n",
       "        }#T_d23c0eba_89ee_11ee_b869_dde84d46429brow23_col1,#T_d23c0eba_89ee_11ee_b869_dde84d46429brow24_col1{\n",
       "            background-color:  #f7fcf5;\n",
       "            color:  #000000;\n",
       "        }</style><table id=\"T_d23c0eba_89ee_11ee_b869_dde84d46429b\" ><thead>    <tr>        <th class=\"blank level0\" ></th>        <th class=\"col_heading level0 col0\" >Top Words</th>        <th class=\"col_heading level0 col1\" >Count</th>    </tr></thead><tbody>\n",
       "                <tr>\n",
       "                        <th id=\"T_d23c0eba_89ee_11ee_b869_dde84d46429blevel0_row0\" class=\"row_heading level0 row0\" >0</th>\n",
       "                        <td id=\"T_d23c0eba_89ee_11ee_b869_dde84d46429brow0_col0\" class=\"data row0 col0\" >muslim</td>\n",
       "                        <td id=\"T_d23c0eba_89ee_11ee_b869_dde84d46429brow0_col1\" class=\"data row0 col1\" >4618</td>\n",
       "            </tr>\n",
       "            <tr>\n",
       "                        <th id=\"T_d23c0eba_89ee_11ee_b869_dde84d46429blevel0_row1\" class=\"row_heading level0 row1\" >1</th>\n",
       "                        <td id=\"T_d23c0eba_89ee_11ee_b869_dde84d46429brow1_col0\" class=\"data row1 col0\" >idiot</td>\n",
       "                        <td id=\"T_d23c0eba_89ee_11ee_b869_dde84d46429brow1_col1\" class=\"data row1 col1\" >3073</td>\n",
       "            </tr>\n",
       "            <tr>\n",
       "                        <th id=\"T_d23c0eba_89ee_11ee_b869_dde84d46429blevel0_row2\" class=\"row_heading level0 row2\" >2</th>\n",
       "                        <td id=\"T_d23c0eba_89ee_11ee_b869_dde84d46429brow2_col0\" class=\"data row2 col0\" >islam</td>\n",
       "                        <td id=\"T_d23c0eba_89ee_11ee_b869_dde84d46429brow2_col1\" class=\"data row2 col1\" >2438</td>\n",
       "            </tr>\n",
       "            <tr>\n",
       "                        <th id=\"T_d23c0eba_89ee_11ee_b869_dde84d46429blevel0_row3\" class=\"row_heading level0 row3\" >3</th>\n",
       "                        <td id=\"T_d23c0eba_89ee_11ee_b869_dde84d46429brow3_col0\" class=\"data row3 col0\" >christian</td>\n",
       "                        <td id=\"T_d23c0eba_89ee_11ee_b869_dde84d46429brow3_col1\" class=\"data row3 col1\" >2132</td>\n",
       "            </tr>\n",
       "            <tr>\n",
       "                        <th id=\"T_d23c0eba_89ee_11ee_b869_dde84d46429blevel0_row4\" class=\"row_heading level0 row4\" >4</th>\n",
       "                        <td id=\"T_d23c0eba_89ee_11ee_b869_dde84d46429brow4_col0\" class=\"data row4 col0\" >u</td>\n",
       "                        <td id=\"T_d23c0eba_89ee_11ee_b869_dde84d46429brow4_col1\" class=\"data row4 col1\" >1919</td>\n",
       "            </tr>\n",
       "            <tr>\n",
       "                        <th id=\"T_d23c0eba_89ee_11ee_b869_dde84d46429blevel0_row5\" class=\"row_heading level0 row5\" >5</th>\n",
       "                        <td id=\"T_d23c0eba_89ee_11ee_b869_dde84d46429brow5_col0\" class=\"data row5 col0\" >terrorist</td>\n",
       "                        <td id=\"T_d23c0eba_89ee_11ee_b869_dde84d46429brow5_col1\" class=\"data row5 col1\" >1379</td>\n",
       "            </tr>\n",
       "            <tr>\n",
       "                        <th id=\"T_d23c0eba_89ee_11ee_b869_dde84d46429blevel0_row6\" class=\"row_heading level0 row6\" >6</th>\n",
       "                        <td id=\"T_d23c0eba_89ee_11ee_b869_dde84d46429brow6_col0\" class=\"data row6 col0\" >right</td>\n",
       "                        <td id=\"T_d23c0eba_89ee_11ee_b869_dde84d46429brow6_col1\" class=\"data row6 col1\" >1290</td>\n",
       "            </tr>\n",
       "            <tr>\n",
       "                        <th id=\"T_d23c0eba_89ee_11ee_b869_dde84d46429blevel0_row7\" class=\"row_heading level0 row7\" >7</th>\n",
       "                        <td id=\"T_d23c0eba_89ee_11ee_b869_dde84d46429brow7_col0\" class=\"data row7 col0\" >like</td>\n",
       "                        <td id=\"T_d23c0eba_89ee_11ee_b869_dde84d46429brow7_col1\" class=\"data row7 col1\" >1276</td>\n",
       "            </tr>\n",
       "            <tr>\n",
       "                        <th id=\"T_d23c0eba_89ee_11ee_b869_dde84d46429blevel0_row8\" class=\"row_heading level0 row8\" >8</th>\n",
       "                        <td id=\"T_d23c0eba_89ee_11ee_b869_dde84d46429brow8_col0\" class=\"data row8 col0\" >support</td>\n",
       "                        <td id=\"T_d23c0eba_89ee_11ee_b869_dde84d46429brow8_col1\" class=\"data row8 col1\" >1250</td>\n",
       "            </tr>\n",
       "            <tr>\n",
       "                        <th id=\"T_d23c0eba_89ee_11ee_b869_dde84d46429blevel0_row9\" class=\"row_heading level0 row9\" >9</th>\n",
       "                        <td id=\"T_d23c0eba_89ee_11ee_b869_dde84d46429brow9_col0\" class=\"data row9 col0\" >woman</td>\n",
       "                        <td id=\"T_d23c0eba_89ee_11ee_b869_dde84d46429brow9_col1\" class=\"data row9 col1\" >1247</td>\n",
       "            </tr>\n",
       "            <tr>\n",
       "                        <th id=\"T_d23c0eba_89ee_11ee_b869_dde84d46429blevel0_row10\" class=\"row_heading level0 row10\" >10</th>\n",
       "                        <td id=\"T_d23c0eba_89ee_11ee_b869_dde84d46429brow10_col0\" class=\"data row10 col0\" >dont</td>\n",
       "                        <td id=\"T_d23c0eba_89ee_11ee_b869_dde84d46429brow10_col1\" class=\"data row10 col1\" >1190</td>\n",
       "            </tr>\n",
       "            <tr>\n",
       "                        <th id=\"T_d23c0eba_89ee_11ee_b869_dde84d46429blevel0_row11\" class=\"row_heading level0 row11\" >11</th>\n",
       "                        <td id=\"T_d23c0eba_89ee_11ee_b869_dde84d46429brow11_col0\" class=\"data row11 col0\" >terror</td>\n",
       "                        <td id=\"T_d23c0eba_89ee_11ee_b869_dde84d46429brow11_col1\" class=\"data row11 col1\" >1181</td>\n",
       "            </tr>\n",
       "            <tr>\n",
       "                        <th id=\"T_d23c0eba_89ee_11ee_b869_dde84d46429blevel0_row12\" class=\"row_heading level0 row12\" >12</th>\n",
       "                        <td id=\"T_d23c0eba_89ee_11ee_b869_dde84d46429brow12_col0\" class=\"data row12 col0\" >radic</td>\n",
       "                        <td id=\"T_d23c0eba_89ee_11ee_b869_dde84d46429brow12_col1\" class=\"data row12 col1\" >1111</td>\n",
       "            </tr>\n",
       "            <tr>\n",
       "                        <th id=\"T_d23c0eba_89ee_11ee_b869_dde84d46429blevel0_row13\" class=\"row_heading level0 row13\" >13</th>\n",
       "                        <td id=\"T_d23c0eba_89ee_11ee_b869_dde84d46429brow13_col0\" class=\"data row13 col0\" >peopl</td>\n",
       "                        <td id=\"T_d23c0eba_89ee_11ee_b869_dde84d46429brow13_col1\" class=\"data row13 col1\" >1076</td>\n",
       "            </tr>\n",
       "            <tr>\n",
       "                        <th id=\"T_d23c0eba_89ee_11ee_b869_dde84d46429blevel0_row14\" class=\"row_heading level0 row14\" >14</th>\n",
       "                        <td id=\"T_d23c0eba_89ee_11ee_b869_dde84d46429brow14_col0\" class=\"data row14 col0\" >say</td>\n",
       "                        <td id=\"T_d23c0eba_89ee_11ee_b869_dde84d46429brow14_col1\" class=\"data row14 col1\" >814</td>\n",
       "            </tr>\n",
       "            <tr>\n",
       "                        <th id=\"T_d23c0eba_89ee_11ee_b869_dde84d46429blevel0_row15\" class=\"row_heading level0 row15\" >15</th>\n",
       "                        <td id=\"T_d23c0eba_89ee_11ee_b869_dde84d46429brow15_col0\" class=\"data row15 col0\" >amp</td>\n",
       "                        <td id=\"T_d23c0eba_89ee_11ee_b869_dde84d46429brow15_col1\" class=\"data row15 col1\" >769</td>\n",
       "            </tr>\n",
       "            <tr>\n",
       "                        <th id=\"T_d23c0eba_89ee_11ee_b869_dde84d46429blevel0_row16\" class=\"row_heading level0 row16\" >16</th>\n",
       "                        <td id=\"T_d23c0eba_89ee_11ee_b869_dde84d46429brow16_col0\" class=\"data row16 col0\" >know</td>\n",
       "                        <td id=\"T_d23c0eba_89ee_11ee_b869_dde84d46429brow16_col1\" class=\"data row16 col1\" >759</td>\n",
       "            </tr>\n",
       "            <tr>\n",
       "                        <th id=\"T_d23c0eba_89ee_11ee_b869_dde84d46429blevel0_row17\" class=\"row_heading level0 row17\" >17</th>\n",
       "                        <td id=\"T_d23c0eba_89ee_11ee_b869_dde84d46429brow17_col0\" class=\"data row17 col0\" >human</td>\n",
       "                        <td id=\"T_d23c0eba_89ee_11ee_b869_dde84d46429brow17_col1\" class=\"data row17 col1\" >744</td>\n",
       "            </tr>\n",
       "            <tr>\n",
       "                        <th id=\"T_d23c0eba_89ee_11ee_b869_dde84d46429blevel0_row18\" class=\"row_heading level0 row18\" >18</th>\n",
       "                        <td id=\"T_d23c0eba_89ee_11ee_b869_dde84d46429brow18_col0\" class=\"data row18 col0\" >kill</td>\n",
       "                        <td id=\"T_d23c0eba_89ee_11ee_b869_dde84d46429brow18_col1\" class=\"data row18 col1\" >708</td>\n",
       "            </tr>\n",
       "            <tr>\n",
       "                        <th id=\"T_d23c0eba_89ee_11ee_b869_dde84d46429blevel0_row19\" class=\"row_heading level0 row19\" >19</th>\n",
       "                        <td id=\"T_d23c0eba_89ee_11ee_b869_dde84d46429brow19_col0\" class=\"data row19 col0\" >hindu</td>\n",
       "                        <td id=\"T_d23c0eba_89ee_11ee_b869_dde84d46429brow19_col1\" class=\"data row19 col1\" >688</td>\n",
       "            </tr>\n",
       "            <tr>\n",
       "                        <th id=\"T_d23c0eba_89ee_11ee_b869_dde84d46429blevel0_row20\" class=\"row_heading level0 row20\" >20</th>\n",
       "                        <td id=\"T_d23c0eba_89ee_11ee_b869_dde84d46429brow20_col0\" class=\"data row20 col0\" >one</td>\n",
       "                        <td id=\"T_d23c0eba_89ee_11ee_b869_dde84d46429brow20_col1\" class=\"data row20 col1\" >666</td>\n",
       "            </tr>\n",
       "            <tr>\n",
       "                        <th id=\"T_d23c0eba_89ee_11ee_b869_dde84d46429blevel0_row21\" class=\"row_heading level0 row21\" >21</th>\n",
       "                        <td id=\"T_d23c0eba_89ee_11ee_b869_dde84d46429brow21_col0\" class=\"data row21 col0\" >isi</td>\n",
       "                        <td id=\"T_d23c0eba_89ee_11ee_b869_dde84d46429brow21_col1\" class=\"data row21 col1\" >664</td>\n",
       "            </tr>\n",
       "            <tr>\n",
       "                        <th id=\"T_d23c0eba_89ee_11ee_b869_dde84d46429blevel0_row22\" class=\"row_heading level0 row22\" >22</th>\n",
       "                        <td id=\"T_d23c0eba_89ee_11ee_b869_dde84d46429brow22_col0\" class=\"data row22 col0\" >quran</td>\n",
       "                        <td id=\"T_d23c0eba_89ee_11ee_b869_dde84d46429brow22_col1\" class=\"data row22 col1\" >651</td>\n",
       "            </tr>\n",
       "            <tr>\n",
       "                        <th id=\"T_d23c0eba_89ee_11ee_b869_dde84d46429blevel0_row23\" class=\"row_heading level0 row23\" >23</th>\n",
       "                        <td id=\"T_d23c0eba_89ee_11ee_b869_dde84d46429brow23_col0\" class=\"data row23 col0\" >religion</td>\n",
       "                        <td id=\"T_d23c0eba_89ee_11ee_b869_dde84d46429brow23_col1\" class=\"data row23 col1\" >611</td>\n",
       "            </tr>\n",
       "            <tr>\n",
       "                        <th id=\"T_d23c0eba_89ee_11ee_b869_dde84d46429blevel0_row24\" class=\"row_heading level0 row24\" >24</th>\n",
       "                        <td id=\"T_d23c0eba_89ee_11ee_b869_dde84d46429brow24_col0\" class=\"data row24 col0\" >countri</td>\n",
       "                        <td id=\"T_d23c0eba_89ee_11ee_b869_dde84d46429brow24_col1\" class=\"data row24 col1\" >607</td>\n",
       "            </tr>\n",
       "    </tbody></table>"
      ],
      "text/plain": [
       "<pandas.io.formats.style.Styler at 0x2926545b828>"
      ]
     },
     "execution_count": 41,
     "metadata": {},
     "output_type": "execute_result"
    }
   ],
   "source": [
    "religion = Counter([item for sublist in religion_type['tweet_list'] for item in sublist])\n",
    "top25_religion = pd.DataFrame(religion.most_common(25))\n",
    "top25_religion.columns = ['Top Words','Count']\n",
    "top25_religion.style.background_gradient(cmap='Greens')\n"
   ]
  },
  {
   "cell_type": "code",
   "execution_count": 42,
   "id": "1b21a8cb",
   "metadata": {},
   "outputs": [
    {
     "data": {
      "text/plain": [
       "Text(0.5, 1.0, 'Top 25 words in Religion Cyberbullying')"
      ]
     },
     "execution_count": 42,
     "metadata": {},
     "output_type": "execute_result"
    },
    {
     "data": {
      "image/png": "[encoded data removed]",
      "text/plain": [
       "<Figure size 1080x576 with 1 Axes>"
      ]
     },
     "metadata": {
      "needs_background": "light"
     },
     "output_type": "display_data"
    }
   ],
   "source": [
    "fig = plt.figure(figsize=(15,8))\n",
    "sns.barplot(data=top25_religion, y=\"Count\", x=\"Top Words\")\n",
    "plt.title(\"Top 25 words in Religion Cyberbullying\")"
   ]
  },
  {
   "cell_type": "code",
   "execution_count": 43,
   "id": "681303c4",
   "metadata": {},
   "outputs": [
    {
     "data": {
      "text/html": [
       "<style  type=\"text/css\" >\n",
       "#T_d2874aca_89ee_11ee_89a7_dde84d46429brow0_col1{\n",
       "            background-color:  #00441b;\n",
       "            color:  #f1f1f1;\n",
       "        }#T_d2874aca_89ee_11ee_89a7_dde84d46429brow1_col1{\n",
       "            background-color:  #005622;\n",
       "            color:  #f1f1f1;\n",
       "        }#T_d2874aca_89ee_11ee_89a7_dde84d46429brow2_col1{\n",
       "            background-color:  #6bc072;\n",
       "            color:  #000000;\n",
       "        }#T_d2874aca_89ee_11ee_89a7_dde84d46429brow3_col1{\n",
       "            background-color:  #76c578;\n",
       "            color:  #000000;\n",
       "        }#T_d2874aca_89ee_11ee_89a7_dde84d46429brow4_col1{\n",
       "            background-color:  #d5efcf;\n",
       "            color:  #000000;\n",
       "        }#T_d2874aca_89ee_11ee_89a7_dde84d46429brow5_col1{\n",
       "            background-color:  #edf8e9;\n",
       "            color:  #000000;\n",
       "        }#T_d2874aca_89ee_11ee_89a7_dde84d46429brow6_col1{\n",
       "            background-color:  #edf8ea;\n",
       "            color:  #000000;\n",
       "        }#T_d2874aca_89ee_11ee_89a7_dde84d46429brow7_col1{\n",
       "            background-color:  #eff9ec;\n",
       "            color:  #000000;\n",
       "        }#T_d2874aca_89ee_11ee_89a7_dde84d46429brow8_col1{\n",
       "            background-color:  #f0f9ec;\n",
       "            color:  #000000;\n",
       "        }#T_d2874aca_89ee_11ee_89a7_dde84d46429brow9_col1,#T_d2874aca_89ee_11ee_89a7_dde84d46429brow10_col1{\n",
       "            background-color:  #f1faee;\n",
       "            color:  #000000;\n",
       "        }#T_d2874aca_89ee_11ee_89a7_dde84d46429brow11_col1{\n",
       "            background-color:  #f3faf0;\n",
       "            color:  #000000;\n",
       "        }#T_d2874aca_89ee_11ee_89a7_dde84d46429brow12_col1,#T_d2874aca_89ee_11ee_89a7_dde84d46429brow13_col1,#T_d2874aca_89ee_11ee_89a7_dde84d46429brow14_col1{\n",
       "            background-color:  #f4fbf2;\n",
       "            color:  #000000;\n",
       "        }#T_d2874aca_89ee_11ee_89a7_dde84d46429brow15_col1{\n",
       "            background-color:  #f5fbf2;\n",
       "            color:  #000000;\n",
       "        }#T_d2874aca_89ee_11ee_89a7_dde84d46429brow16_col1,#T_d2874aca_89ee_11ee_89a7_dde84d46429brow17_col1,#T_d2874aca_89ee_11ee_89a7_dde84d46429brow18_col1,#T_d2874aca_89ee_11ee_89a7_dde84d46429brow19_col1{\n",
       "            background-color:  #f6fcf4;\n",
       "            color:  #000000;\n",
       "        }#T_d2874aca_89ee_11ee_89a7_dde84d46429brow20_col1,#T_d2874aca_89ee_11ee_89a7_dde84d46429brow21_col1,#T_d2874aca_89ee_11ee_89a7_dde84d46429brow22_col1,#T_d2874aca_89ee_11ee_89a7_dde84d46429brow23_col1,#T_d2874aca_89ee_11ee_89a7_dde84d46429brow24_col1{\n",
       "            background-color:  #f7fcf5;\n",
       "            color:  #000000;\n",
       "        }</style><table id=\"T_d2874aca_89ee_11ee_89a7_dde84d46429b\" ><thead>    <tr>        <th class=\"blank level0\" ></th>        <th class=\"col_heading level0 col0\" >Top Words</th>        <th class=\"col_heading level0 col1\" >Count</th>    </tr></thead><tbody>\n",
       "                <tr>\n",
       "                        <th id=\"T_d2874aca_89ee_11ee_89a7_dde84d46429blevel0_row0\" class=\"row_heading level0 row0\" >0</th>\n",
       "                        <td id=\"T_d2874aca_89ee_11ee_89a7_dde84d46429brow0_col0\" class=\"data row0 col0\" >bulli</td>\n",
       "                        <td id=\"T_d2874aca_89ee_11ee_89a7_dde84d46429brow0_col1\" class=\"data row0 col1\" >8902</td>\n",
       "            </tr>\n",
       "            <tr>\n",
       "                        <th id=\"T_d2874aca_89ee_11ee_89a7_dde84d46429blevel0_row1\" class=\"row_heading level0 row1\" >1</th>\n",
       "                        <td id=\"T_d2874aca_89ee_11ee_89a7_dde84d46429brow1_col0\" class=\"data row1 col0\" >school</td>\n",
       "                        <td id=\"T_d2874aca_89ee_11ee_89a7_dde84d46429brow1_col1\" class=\"data row1 col1\" >8427</td>\n",
       "            </tr>\n",
       "            <tr>\n",
       "                        <th id=\"T_d2874aca_89ee_11ee_89a7_dde84d46429blevel0_row2\" class=\"row_heading level0 row2\" >2</th>\n",
       "                        <td id=\"T_d2874aca_89ee_11ee_89a7_dde84d46429brow2_col0\" class=\"data row2 col0\" >high</td>\n",
       "                        <td id=\"T_d2874aca_89ee_11ee_89a7_dde84d46429brow2_col1\" class=\"data row2 col1\" >4861</td>\n",
       "            </tr>\n",
       "            <tr>\n",
       "                        <th id=\"T_d2874aca_89ee_11ee_89a7_dde84d46429blevel0_row3\" class=\"row_heading level0 row3\" >3</th>\n",
       "                        <td id=\"T_d2874aca_89ee_11ee_89a7_dde84d46429brow3_col0\" class=\"data row3 col0\" >girl</td>\n",
       "                        <td id=\"T_d2874aca_89ee_11ee_89a7_dde84d46429brow3_col1\" class=\"data row3 col1\" >4615</td>\n",
       "            </tr>\n",
       "            <tr>\n",
       "                        <th id=\"T_d2874aca_89ee_11ee_89a7_dde84d46429blevel0_row4\" class=\"row_heading level0 row4\" >4</th>\n",
       "                        <td id=\"T_d2874aca_89ee_11ee_89a7_dde84d46429brow4_col0\" class=\"data row4 col0\" >like</td>\n",
       "                        <td id=\"T_d2874aca_89ee_11ee_89a7_dde84d46429brow4_col1\" class=\"data row4 col1\" >2079</td>\n",
       "            </tr>\n",
       "            <tr>\n",
       "                        <th id=\"T_d2874aca_89ee_11ee_89a7_dde84d46429blevel0_row5\" class=\"row_heading level0 row5\" >5</th>\n",
       "                        <td id=\"T_d2874aca_89ee_11ee_89a7_dde84d46429brow5_col0\" class=\"data row5 col0\" >get</td>\n",
       "                        <td id=\"T_d2874aca_89ee_11ee_89a7_dde84d46429brow5_col1\" class=\"data row5 col1\" >1051</td>\n",
       "            </tr>\n",
       "            <tr>\n",
       "                        <th id=\"T_d2874aca_89ee_11ee_89a7_dde84d46429blevel0_row6\" class=\"row_heading level0 row6\" >6</th>\n",
       "                        <td id=\"T_d2874aca_89ee_11ee_89a7_dde84d46429brow6_col0\" class=\"data row6 col0\" >one</td>\n",
       "                        <td id=\"T_d2874aca_89ee_11ee_89a7_dde84d46429brow6_col1\" class=\"data row6 col1\" >1043</td>\n",
       "            </tr>\n",
       "            <tr>\n",
       "                        <th id=\"T_d2874aca_89ee_11ee_89a7_dde84d46429blevel0_row7\" class=\"row_heading level0 row7\" >7</th>\n",
       "                        <td id=\"T_d2874aca_89ee_11ee_89a7_dde84d46429brow7_col0\" class=\"data row7 col0\" >peopl</td>\n",
       "                        <td id=\"T_d2874aca_89ee_11ee_89a7_dde84d46429brow7_col1\" class=\"data row7 col1\" >934</td>\n",
       "            </tr>\n",
       "            <tr>\n",
       "                        <th id=\"T_d2874aca_89ee_11ee_89a7_dde84d46429blevel0_row8\" class=\"row_heading level0 row8\" >8</th>\n",
       "                        <td id=\"T_d2874aca_89ee_11ee_89a7_dde84d46429brow8_col0\" class=\"data row8 col0\" >im</td>\n",
       "                        <td id=\"T_d2874aca_89ee_11ee_89a7_dde84d46429brow8_col1\" class=\"data row8 col1\" >916</td>\n",
       "            </tr>\n",
       "            <tr>\n",
       "                        <th id=\"T_d2874aca_89ee_11ee_89a7_dde84d46429blevel0_row9\" class=\"row_heading level0 row9\" >9</th>\n",
       "                        <td id=\"T_d2874aca_89ee_11ee_89a7_dde84d46429brow9_col0\" class=\"data row9 col0\" >got</td>\n",
       "                        <td id=\"T_d2874aca_89ee_11ee_89a7_dde84d46429brow9_col1\" class=\"data row9 col1\" >842</td>\n",
       "            </tr>\n",
       "            <tr>\n",
       "                        <th id=\"T_d2874aca_89ee_11ee_89a7_dde84d46429blevel0_row10\" class=\"row_heading level0 row10\" >10</th>\n",
       "                        <td id=\"T_d2874aca_89ee_11ee_89a7_dde84d46429brow10_col0\" class=\"data row10 col0\" >kid</td>\n",
       "                        <td id=\"T_d2874aca_89ee_11ee_89a7_dde84d46429brow10_col1\" class=\"data row10 col1\" >808</td>\n",
       "            </tr>\n",
       "            <tr>\n",
       "                        <th id=\"T_d2874aca_89ee_11ee_89a7_dde84d46429blevel0_row11\" class=\"row_heading level0 row11\" >11</th>\n",
       "                        <td id=\"T_d2874aca_89ee_11ee_89a7_dde84d46429brow11_col0\" class=\"data row11 col0\" >middl</td>\n",
       "                        <td id=\"T_d2874aca_89ee_11ee_89a7_dde84d46429brow11_col1\" class=\"data row11 col1\" >714</td>\n",
       "            </tr>\n",
       "            <tr>\n",
       "                        <th id=\"T_d2874aca_89ee_11ee_89a7_dde84d46429blevel0_row12\" class=\"row_heading level0 row12\" >12</th>\n",
       "                        <td id=\"T_d2874aca_89ee_11ee_89a7_dde84d46429brow12_col0\" class=\"data row12 col0\" >would</td>\n",
       "                        <td id=\"T_d2874aca_89ee_11ee_89a7_dde84d46429brow12_col1\" class=\"data row12 col1\" >633</td>\n",
       "            </tr>\n",
       "            <tr>\n",
       "                        <th id=\"T_d2874aca_89ee_11ee_89a7_dde84d46429blevel0_row13\" class=\"row_heading level0 row13\" >13</th>\n",
       "                        <td id=\"T_d2874aca_89ee_11ee_89a7_dde84d46429brow13_col0\" class=\"data row13 col0\" >friend</td>\n",
       "                        <td id=\"T_d2874aca_89ee_11ee_89a7_dde84d46429brow13_col1\" class=\"data row13 col1\" >632</td>\n",
       "            </tr>\n",
       "            <tr>\n",
       "                        <th id=\"T_d2874aca_89ee_11ee_89a7_dde84d46429blevel0_row14\" class=\"row_heading level0 row14\" >14</th>\n",
       "                        <td id=\"T_d2874aca_89ee_11ee_89a7_dde84d46429brow14_col0\" class=\"data row14 col0\" >dont</td>\n",
       "                        <td id=\"T_d2874aca_89ee_11ee_89a7_dde84d46429brow14_col1\" class=\"data row14 col1\" >627</td>\n",
       "            </tr>\n",
       "            <tr>\n",
       "                        <th id=\"T_d2874aca_89ee_11ee_89a7_dde84d46429blevel0_row15\" class=\"row_heading level0 row15\" >15</th>\n",
       "                        <td id=\"T_d2874aca_89ee_11ee_89a7_dde84d46429brow15_col0\" class=\"data row15 col0\" >year</td>\n",
       "                        <td id=\"T_d2874aca_89ee_11ee_89a7_dde84d46429brow15_col1\" class=\"data row15 col1\" >588</td>\n",
       "            </tr>\n",
       "            <tr>\n",
       "                        <th id=\"T_d2874aca_89ee_11ee_89a7_dde84d46429blevel0_row16\" class=\"row_heading level0 row16\" >16</th>\n",
       "                        <td id=\"T_d2874aca_89ee_11ee_89a7_dde84d46429brow16_col0\" class=\"data row16 col0\" >go</td>\n",
       "                        <td id=\"T_d2874aca_89ee_11ee_89a7_dde84d46429brow16_col1\" class=\"data row16 col1\" >553</td>\n",
       "            </tr>\n",
       "            <tr>\n",
       "                        <th id=\"T_d2874aca_89ee_11ee_89a7_dde84d46429blevel0_row17\" class=\"row_heading level0 row17\" >17</th>\n",
       "                        <td id=\"T_d2874aca_89ee_11ee_89a7_dde84d46429brow17_col0\" class=\"data row17 col0\" >look</td>\n",
       "                        <td id=\"T_d2874aca_89ee_11ee_89a7_dde84d46429brow17_col1\" class=\"data row17 col1\" >545</td>\n",
       "            </tr>\n",
       "            <tr>\n",
       "                        <th id=\"T_d2874aca_89ee_11ee_89a7_dde84d46429blevel0_row18\" class=\"row_heading level0 row18\" >18</th>\n",
       "                        <td id=\"T_d2874aca_89ee_11ee_89a7_dde84d46429brow18_col0\" class=\"data row18 col0\" >amp</td>\n",
       "                        <td id=\"T_d2874aca_89ee_11ee_89a7_dde84d46429brow18_col1\" class=\"data row18 col1\" >527</td>\n",
       "            </tr>\n",
       "            <tr>\n",
       "                        <th id=\"T_d2874aca_89ee_11ee_89a7_dde84d46429blevel0_row19\" class=\"row_heading level0 row19\" >19</th>\n",
       "                        <td id=\"T_d2874aca_89ee_11ee_89a7_dde84d46429brow19_col0\" class=\"data row19 col0\" >know</td>\n",
       "                        <td id=\"T_d2874aca_89ee_11ee_89a7_dde84d46429brow19_col1\" class=\"data row19 col1\" >511</td>\n",
       "            </tr>\n",
       "            <tr>\n",
       "                        <th id=\"T_d2874aca_89ee_11ee_89a7_dde84d46429blevel0_row20\" class=\"row_heading level0 row20\" >20</th>\n",
       "                        <td id=\"T_d2874aca_89ee_11ee_89a7_dde84d46429brow20_col0\" class=\"data row20 col0\" >u</td>\n",
       "                        <td id=\"T_d2874aca_89ee_11ee_89a7_dde84d46429brow20_col1\" class=\"data row20 col1\" >475</td>\n",
       "            </tr>\n",
       "            <tr>\n",
       "                        <th id=\"T_d2874aca_89ee_11ee_89a7_dde84d46429blevel0_row21\" class=\"row_heading level0 row21\" >21</th>\n",
       "                        <td id=\"T_d2874aca_89ee_11ee_89a7_dde84d46429brow21_col0\" class=\"data row21 col0\" >think</td>\n",
       "                        <td id=\"T_d2874aca_89ee_11ee_89a7_dde84d46429brow21_col1\" class=\"data row21 col1\" >467</td>\n",
       "            </tr>\n",
       "            <tr>\n",
       "                        <th id=\"T_d2874aca_89ee_11ee_89a7_dde84d46429blevel0_row22\" class=\"row_heading level0 row22\" >22</th>\n",
       "                        <td id=\"T_d2874aca_89ee_11ee_89a7_dde84d46429brow22_col0\" class=\"data row22 col0\" >say</td>\n",
       "                        <td id=\"T_d2874aca_89ee_11ee_89a7_dde84d46429brow22_col1\" class=\"data row22 col1\" >465</td>\n",
       "            </tr>\n",
       "            <tr>\n",
       "                        <th id=\"T_d2874aca_89ee_11ee_89a7_dde84d46429blevel0_row23\" class=\"row_heading level0 row23\" >23</th>\n",
       "                        <td id=\"T_d2874aca_89ee_11ee_89a7_dde84d46429brow23_col0\" class=\"data row23 col0\" >time</td>\n",
       "                        <td id=\"T_d2874aca_89ee_11ee_89a7_dde84d46429brow23_col1\" class=\"data row23 col1\" >462</td>\n",
       "            </tr>\n",
       "            <tr>\n",
       "                        <th id=\"T_d2874aca_89ee_11ee_89a7_dde84d46429blevel0_row24\" class=\"row_heading level0 row24\" >24</th>\n",
       "                        <td id=\"T_d2874aca_89ee_11ee_89a7_dde84d46429brow24_col0\" class=\"data row24 col0\" >back</td>\n",
       "                        <td id=\"T_d2874aca_89ee_11ee_89a7_dde84d46429brow24_col1\" class=\"data row24 col1\" >456</td>\n",
       "            </tr>\n",
       "    </tbody></table>"
      ],
      "text/plain": [
       "<pandas.io.formats.style.Styler at 0x292652e27b8>"
      ]
     },
     "execution_count": 43,
     "metadata": {},
     "output_type": "execute_result"
    }
   ],
   "source": [
    "age = Counter([item for sublist in age_type['tweet_list'] for item in sublist])\n",
    "top25_age = pd.DataFrame(age.most_common(25))\n",
    "top25_age.columns = ['Top Words','Count']\n",
    "top25_age.style.background_gradient(cmap='Greens')"
   ]
  },
  {
   "cell_type": "code",
   "execution_count": 44,
   "id": "7f05d0d2",
   "metadata": {},
   "outputs": [
    {
     "data": {
      "text/plain": [
       "Text(0.5, 1.0, 'Top 25 words in Age Cyberbullying')"
      ]
     },
     "execution_count": 44,
     "metadata": {},
     "output_type": "execute_result"
    },
    {
     "data": {
      "image/png": "[encoded data removed]",
      "text/plain": [
       "<Figure size 1080x576 with 1 Axes>"
      ]
     },
     "metadata": {
      "needs_background": "light"
     },
     "output_type": "display_data"
    }
   ],
   "source": [
    "fig = plt.figure(figsize=(15,8))\n",
    "sns.barplot(data=top25_age, y=\"Count\", x=\"Top Words\")\n",
    "plt.title(\"Top 25 words in Age Cyberbullying\")"
   ]
  },
  {
   "cell_type": "code",
   "execution_count": 45,
   "id": "4fa21561",
   "metadata": {},
   "outputs": [
    {
     "data": {
      "text/html": [
       "<style  type=\"text/css\" >\n",
       "#T_d2c10e64_89ee_11ee_bb47_dde84d46429brow0_col1{\n",
       "            background-color:  #00441b;\n",
       "            color:  #f1f1f1;\n",
       "        }#T_d2c10e64_89ee_11ee_bb47_dde84d46429brow1_col1{\n",
       "            background-color:  #005f26;\n",
       "            color:  #f1f1f1;\n",
       "        }#T_d2c10e64_89ee_11ee_bb47_dde84d46429brow2_col1{\n",
       "            background-color:  #0c7735;\n",
       "            color:  #f1f1f1;\n",
       "        }#T_d2c10e64_89ee_11ee_bb47_dde84d46429brow3_col1{\n",
       "            background-color:  #b6e2af;\n",
       "            color:  #000000;\n",
       "        }#T_d2c10e64_89ee_11ee_bb47_dde84d46429brow4_col1{\n",
       "            background-color:  #bde5b6;\n",
       "            color:  #000000;\n",
       "        }#T_d2c10e64_89ee_11ee_bb47_dde84d46429brow5_col1{\n",
       "            background-color:  #bee5b8;\n",
       "            color:  #000000;\n",
       "        }#T_d2c10e64_89ee_11ee_bb47_dde84d46429brow6_col1{\n",
       "            background-color:  #daf0d4;\n",
       "            color:  #000000;\n",
       "        }#T_d2c10e64_89ee_11ee_bb47_dde84d46429brow7_col1{\n",
       "            background-color:  #e1f3dc;\n",
       "            color:  #000000;\n",
       "        }#T_d2c10e64_89ee_11ee_bb47_dde84d46429brow8_col1{\n",
       "            background-color:  #e8f6e4;\n",
       "            color:  #000000;\n",
       "        }#T_d2c10e64_89ee_11ee_bb47_dde84d46429brow9_col1{\n",
       "            background-color:  #e9f7e5;\n",
       "            color:  #000000;\n",
       "        }#T_d2c10e64_89ee_11ee_bb47_dde84d46429brow10_col1{\n",
       "            background-color:  #eaf7e6;\n",
       "            color:  #000000;\n",
       "        }#T_d2c10e64_89ee_11ee_bb47_dde84d46429brow11_col1,#T_d2c10e64_89ee_11ee_bb47_dde84d46429brow12_col1{\n",
       "            background-color:  #ecf8e8;\n",
       "            color:  #000000;\n",
       "        }#T_d2c10e64_89ee_11ee_bb47_dde84d46429brow13_col1{\n",
       "            background-color:  #edf8ea;\n",
       "            color:  #000000;\n",
       "        }#T_d2c10e64_89ee_11ee_bb47_dde84d46429brow14_col1{\n",
       "            background-color:  #eef8ea;\n",
       "            color:  #000000;\n",
       "        }#T_d2c10e64_89ee_11ee_bb47_dde84d46429brow15_col1,#T_d2c10e64_89ee_11ee_bb47_dde84d46429brow16_col1{\n",
       "            background-color:  #f2faf0;\n",
       "            color:  #000000;\n",
       "        }#T_d2c10e64_89ee_11ee_bb47_dde84d46429brow17_col1{\n",
       "            background-color:  #f3faf0;\n",
       "            color:  #000000;\n",
       "        }#T_d2c10e64_89ee_11ee_bb47_dde84d46429brow18_col1{\n",
       "            background-color:  #f4fbf2;\n",
       "            color:  #000000;\n",
       "        }#T_d2c10e64_89ee_11ee_bb47_dde84d46429brow19_col1{\n",
       "            background-color:  #f5fbf2;\n",
       "            color:  #000000;\n",
       "        }#T_d2c10e64_89ee_11ee_bb47_dde84d46429brow20_col1{\n",
       "            background-color:  #f5fbf3;\n",
       "            color:  #000000;\n",
       "        }#T_d2c10e64_89ee_11ee_bb47_dde84d46429brow21_col1,#T_d2c10e64_89ee_11ee_bb47_dde84d46429brow22_col1{\n",
       "            background-color:  #f6fcf4;\n",
       "            color:  #000000;\n",
       "        }#T_d2c10e64_89ee_11ee_bb47_dde84d46429brow23_col1,#T_d2c10e64_89ee_11ee_bb47_dde84d46429brow24_col1{\n",
       "            background-color:  #f7fcf5;\n",
       "            color:  #000000;\n",
       "        }</style><table id=\"T_d2c10e64_89ee_11ee_bb47_dde84d46429b\" ><thead>    <tr>        <th class=\"blank level0\" ></th>        <th class=\"col_heading level0 col0\" >Top Words</th>        <th class=\"col_heading level0 col1\" >Count</th>    </tr></thead><tbody>\n",
       "                <tr>\n",
       "                        <th id=\"T_d2c10e64_89ee_11ee_bb47_dde84d46429blevel0_row0\" class=\"row_heading level0 row0\" >0</th>\n",
       "                        <td id=\"T_d2c10e64_89ee_11ee_bb47_dde84d46429brow0_col0\" class=\"data row0 col0\" >fuck</td>\n",
       "                        <td id=\"T_d2c10e64_89ee_11ee_bb47_dde84d46429brow0_col1\" class=\"data row0 col1\" >5890</td>\n",
       "            </tr>\n",
       "            <tr>\n",
       "                        <th id=\"T_d2c10e64_89ee_11ee_bb47_dde84d46429blevel0_row1\" class=\"row_heading level0 row1\" >1</th>\n",
       "                        <td id=\"T_d2c10e64_89ee_11ee_bb47_dde84d46429brow1_col0\" class=\"data row1 col0\" >nigger</td>\n",
       "                        <td id=\"T_d2c10e64_89ee_11ee_bb47_dde84d46429brow1_col1\" class=\"data row1 col1\" >5459</td>\n",
       "            </tr>\n",
       "            <tr>\n",
       "                        <th id=\"T_d2c10e64_89ee_11ee_bb47_dde84d46429blevel0_row2\" class=\"row_heading level0 row2\" >2</th>\n",
       "                        <td id=\"T_d2c10e64_89ee_11ee_bb47_dde84d46429brow2_col0\" class=\"data row2 col0\" >dumb</td>\n",
       "                        <td id=\"T_d2c10e64_89ee_11ee_bb47_dde84d46429brow2_col1\" class=\"data row2 col1\" >5005</td>\n",
       "            </tr>\n",
       "            <tr>\n",
       "                        <th id=\"T_d2c10e64_89ee_11ee_bb47_dde84d46429blevel0_row3\" class=\"row_heading level0 row3\" >3</th>\n",
       "                        <td id=\"T_d2c10e64_89ee_11ee_bb47_dde84d46429brow3_col0\" class=\"data row3 col0\" >as</td>\n",
       "                        <td id=\"T_d2c10e64_89ee_11ee_bb47_dde84d46429brow3_col1\" class=\"data row3 col1\" >2240</td>\n",
       "            </tr>\n",
       "            <tr>\n",
       "                        <th id=\"T_d2c10e64_89ee_11ee_bb47_dde84d46429blevel0_row4\" class=\"row_heading level0 row4\" >4</th>\n",
       "                        <td id=\"T_d2c10e64_89ee_11ee_bb47_dde84d46429brow4_col0\" class=\"data row4 col0\" >black</td>\n",
       "                        <td id=\"T_d2c10e64_89ee_11ee_bb47_dde84d46429brow4_col1\" class=\"data row4 col1\" >2134</td>\n",
       "            </tr>\n",
       "            <tr>\n",
       "                        <th id=\"T_d2c10e64_89ee_11ee_bb47_dde84d46429blevel0_row5\" class=\"row_heading level0 row5\" >5</th>\n",
       "                        <td id=\"T_d2c10e64_89ee_11ee_bb47_dde84d46429brow5_col0\" class=\"data row5 col0\" >u</td>\n",
       "                        <td id=\"T_d2c10e64_89ee_11ee_bb47_dde84d46429brow5_col1\" class=\"data row5 col1\" >2099</td>\n",
       "            </tr>\n",
       "            <tr>\n",
       "                        <th id=\"T_d2c10e64_89ee_11ee_bb47_dde84d46429blevel0_row6\" class=\"row_heading level0 row6\" >6</th>\n",
       "                        <td id=\"T_d2c10e64_89ee_11ee_bb47_dde84d46429brow6_col0\" class=\"data row6 col0\" >white</td>\n",
       "                        <td id=\"T_d2c10e64_89ee_11ee_bb47_dde84d46429brow6_col1\" class=\"data row6 col1\" >1557</td>\n",
       "            </tr>\n",
       "            <tr>\n",
       "                        <th id=\"T_d2c10e64_89ee_11ee_bb47_dde84d46429blevel0_row7\" class=\"row_heading level0 row7\" >7</th>\n",
       "                        <td id=\"T_d2c10e64_89ee_11ee_bb47_dde84d46429brow7_col0\" class=\"data row7 col0\" >call</td>\n",
       "                        <td id=\"T_d2c10e64_89ee_11ee_bb47_dde84d46429brow7_col1\" class=\"data row7 col1\" >1381</td>\n",
       "            </tr>\n",
       "            <tr>\n",
       "                        <th id=\"T_d2c10e64_89ee_11ee_bb47_dde84d46429blevel0_row8\" class=\"row_heading level0 row8\" >8</th>\n",
       "                        <td id=\"T_d2c10e64_89ee_11ee_bb47_dde84d46429brow8_col0\" class=\"data row8 col0\" >peopl</td>\n",
       "                        <td id=\"T_d2c10e64_89ee_11ee_bb47_dde84d46429brow8_col1\" class=\"data row8 col1\" >1182</td>\n",
       "            </tr>\n",
       "            <tr>\n",
       "                        <th id=\"T_d2c10e64_89ee_11ee_bb47_dde84d46429blevel0_row9\" class=\"row_heading level0 row9\" >9</th>\n",
       "                        <td id=\"T_d2c10e64_89ee_11ee_bb47_dde84d46429brow9_col0\" class=\"data row9 col0\" >rt</td>\n",
       "                        <td id=\"T_d2c10e64_89ee_11ee_bb47_dde84d46429brow9_col1\" class=\"data row9 col1\" >1163</td>\n",
       "            </tr>\n",
       "            <tr>\n",
       "                        <th id=\"T_d2c10e64_89ee_11ee_bb47_dde84d46429blevel0_row10\" class=\"row_heading level0 row10\" >10</th>\n",
       "                        <td id=\"T_d2c10e64_89ee_11ee_bb47_dde84d46429brow10_col0\" class=\"data row10 col0\" >obama</td>\n",
       "                        <td id=\"T_d2c10e64_89ee_11ee_bb47_dde84d46429brow10_col1\" class=\"data row10 col1\" >1112</td>\n",
       "            </tr>\n",
       "            <tr>\n",
       "                        <th id=\"T_d2c10e64_89ee_11ee_bb47_dde84d46429blevel0_row11\" class=\"row_heading level0 row11\" >11</th>\n",
       "                        <td id=\"T_d2c10e64_89ee_11ee_bb47_dde84d46429brow11_col0\" class=\"data row11 col0\" >one</td>\n",
       "                        <td id=\"T_d2c10e64_89ee_11ee_bb47_dde84d46429brow11_col1\" class=\"data row11 col1\" >1058</td>\n",
       "            </tr>\n",
       "            <tr>\n",
       "                        <th id=\"T_d2c10e64_89ee_11ee_bb47_dde84d46429blevel0_row12\" class=\"row_heading level0 row12\" >12</th>\n",
       "                        <td id=\"T_d2c10e64_89ee_11ee_bb47_dde84d46429brow12_col0\" class=\"data row12 col0\" >like</td>\n",
       "                        <td id=\"T_d2c10e64_89ee_11ee_bb47_dde84d46429brow12_col1\" class=\"data row12 col1\" >1035</td>\n",
       "            </tr>\n",
       "            <tr>\n",
       "                        <th id=\"T_d2c10e64_89ee_11ee_bb47_dde84d46429blevel0_row13\" class=\"row_heading level0 row13\" >13</th>\n",
       "                        <td id=\"T_d2c10e64_89ee_11ee_bb47_dde84d46429brow13_col0\" class=\"data row13 col0\" >bitch</td>\n",
       "                        <td id=\"T_d2c10e64_89ee_11ee_bb47_dde84d46429brow13_col1\" class=\"data row13 col1\" >997</td>\n",
       "            </tr>\n",
       "            <tr>\n",
       "                        <th id=\"T_d2c10e64_89ee_11ee_bb47_dde84d46429blevel0_row14\" class=\"row_heading level0 row14\" >14</th>\n",
       "                        <td id=\"T_d2c10e64_89ee_11ee_bb47_dde84d46429brow14_col0\" class=\"data row14 col0\" >ur</td>\n",
       "                        <td id=\"T_d2c10e64_89ee_11ee_bb47_dde84d46429brow14_col1\" class=\"data row14 col1\" >988</td>\n",
       "            </tr>\n",
       "            <tr>\n",
       "                        <th id=\"T_d2c10e64_89ee_11ee_bb47_dde84d46429blevel0_row15\" class=\"row_heading level0 row15\" >15</th>\n",
       "                        <td id=\"T_d2c10e64_89ee_11ee_bb47_dde84d46429brow15_col0\" class=\"data row15 col0\" >dont</td>\n",
       "                        <td id=\"T_d2c10e64_89ee_11ee_bb47_dde84d46429brow15_col1\" class=\"data row15 col1\" >822</td>\n",
       "            </tr>\n",
       "            <tr>\n",
       "                        <th id=\"T_d2c10e64_89ee_11ee_bb47_dde84d46429blevel0_row16\" class=\"row_heading level0 row16\" >16</th>\n",
       "                        <td id=\"T_d2c10e64_89ee_11ee_bb47_dde84d46429brow16_col0\" class=\"data row16 col0\" >say</td>\n",
       "                        <td id=\"T_d2c10e64_89ee_11ee_bb47_dde84d46429brow16_col1\" class=\"data row16 col1\" >817</td>\n",
       "            </tr>\n",
       "            <tr>\n",
       "                        <th id=\"T_d2c10e64_89ee_11ee_bb47_dde84d46429blevel0_row17\" class=\"row_heading level0 row17\" >17</th>\n",
       "                        <td id=\"T_d2c10e64_89ee_11ee_bb47_dde84d46429brow17_col0\" class=\"data row17 col0\" >im</td>\n",
       "                        <td id=\"T_d2c10e64_89ee_11ee_bb47_dde84d46429brow17_col1\" class=\"data row17 col1\" >802</td>\n",
       "            </tr>\n",
       "            <tr>\n",
       "                        <th id=\"T_d2c10e64_89ee_11ee_bb47_dde84d46429blevel0_row18\" class=\"row_heading level0 row18\" >18</th>\n",
       "                        <td id=\"T_d2c10e64_89ee_11ee_bb47_dde84d46429brow18_col0\" class=\"data row18 col0\" >first</td>\n",
       "                        <td id=\"T_d2c10e64_89ee_11ee_bb47_dde84d46429brow18_col1\" class=\"data row18 col1\" >744</td>\n",
       "            </tr>\n",
       "            <tr>\n",
       "                        <th id=\"T_d2c10e64_89ee_11ee_bb47_dde84d46429blevel0_row19\" class=\"row_heading level0 row19\" >19</th>\n",
       "                        <td id=\"T_d2c10e64_89ee_11ee_bb47_dde84d46429brow19_col0\" class=\"data row19 col0\" >get</td>\n",
       "                        <td id=\"T_d2c10e64_89ee_11ee_bb47_dde84d46429brow19_col1\" class=\"data row19 col1\" >740</td>\n",
       "            </tr>\n",
       "            <tr>\n",
       "                        <th id=\"T_d2c10e64_89ee_11ee_bb47_dde84d46429blevel0_row20\" class=\"row_heading level0 row20\" >20</th>\n",
       "                        <td id=\"T_d2c10e64_89ee_11ee_bb47_dde84d46429brow20_col0\" class=\"data row20 col0\" >anyth</td>\n",
       "                        <td id=\"T_d2c10e64_89ee_11ee_bb47_dde84d46429brow20_col1\" class=\"data row20 col1\" >708</td>\n",
       "            </tr>\n",
       "            <tr>\n",
       "                        <th id=\"T_d2c10e64_89ee_11ee_bb47_dde84d46429blevel0_row21\" class=\"row_heading level0 row21\" >21</th>\n",
       "                        <td id=\"T_d2c10e64_89ee_11ee_bb47_dde84d46429brow21_col0\" class=\"data row21 col0\" >racism</td>\n",
       "                        <td id=\"T_d2c10e64_89ee_11ee_bb47_dde84d46429brow21_col1\" class=\"data row21 col1\" >689</td>\n",
       "            </tr>\n",
       "            <tr>\n",
       "                        <th id=\"T_d2c10e64_89ee_11ee_bb47_dde84d46429blevel0_row22\" class=\"row_heading level0 row22\" >22</th>\n",
       "                        <td id=\"T_d2c10e64_89ee_11ee_bb47_dde84d46429brow22_col0\" class=\"data row22 col0\" >past</td>\n",
       "                        <td id=\"T_d2c10e64_89ee_11ee_bb47_dde84d46429brow22_col1\" class=\"data row22 col1\" >669</td>\n",
       "            </tr>\n",
       "            <tr>\n",
       "                        <th id=\"T_d2c10e64_89ee_11ee_bb47_dde84d46429blevel0_row23\" class=\"row_heading level0 row23\" >23</th>\n",
       "                        <td id=\"T_d2c10e64_89ee_11ee_bb47_dde84d46429brow23_col0\" class=\"data row23 col0\" >shit</td>\n",
       "                        <td id=\"T_d2c10e64_89ee_11ee_bb47_dde84d46429brow23_col1\" class=\"data row23 col1\" >642</td>\n",
       "            </tr>\n",
       "            <tr>\n",
       "                        <th id=\"T_d2c10e64_89ee_11ee_bb47_dde84d46429blevel0_row24\" class=\"row_heading level0 row24\" >24</th>\n",
       "                        <td id=\"T_d2c10e64_89ee_11ee_bb47_dde84d46429brow24_col0\" class=\"data row24 col0\" >negro</td>\n",
       "                        <td id=\"T_d2c10e64_89ee_11ee_bb47_dde84d46429brow24_col1\" class=\"data row24 col1\" >640</td>\n",
       "            </tr>\n",
       "    </tbody></table>"
      ],
      "text/plain": [
       "<pandas.io.formats.style.Styler at 0x2926540a2e8>"
      ]
     },
     "execution_count": 45,
     "metadata": {},
     "output_type": "execute_result"
    }
   ],
   "source": [
    "ethnicity = Counter([item for sublist in ethnicity_type['tweet_list'] for item in sublist])\n",
    "top25_ethnicity = pd.DataFrame(ethnicity.most_common(25))\n",
    "top25_ethnicity.columns = ['Top Words','Count']\n",
    "top25_ethnicity.style.background_gradient(cmap='Greens')"
   ]
  },
  {
   "cell_type": "code",
   "execution_count": 46,
   "id": "0e34eace",
   "metadata": {},
   "outputs": [
    {
     "data": {
      "text/plain": [
       "Text(0.5, 1.0, 'Top 25 words in Ethnicity Cyberbullying')"
      ]
     },
     "execution_count": 46,
     "metadata": {},
     "output_type": "execute_result"
    },
    {
     "data": {
      "image/png": "[encoded data removed]",
      "text/plain": [
       "<Figure size 1080x576 with 1 Axes>"
      ]
     },
     "metadata": {
      "needs_background": "light"
     },
     "output_type": "display_data"
    }
   ],
   "source": [
    "fig = plt.figure(figsize=(15,8))\n",
    "sns.barplot(data=top25_ethnicity, y=\"Count\", x=\"Top Words\")\n",
    "plt.title(\"Top 25 words in Ethnicity Cyberbullying\")"
   ]
  },
  {
   "cell_type": "code",
   "execution_count": 47,
   "id": "b8f941d2",
   "metadata": {},
   "outputs": [
    {
     "data": {
      "text/html": [
       "<style  type=\"text/css\" >\n",
       "#T_d2fbfc28_89ee_11ee_905f_dde84d46429brow0_col1{\n",
       "            background-color:  #00441b;\n",
       "            color:  #f1f1f1;\n",
       "        }#T_d2fbfc28_89ee_11ee_905f_dde84d46429brow1_col1{\n",
       "            background-color:  #1e8741;\n",
       "            color:  #000000;\n",
       "        }#T_d2fbfc28_89ee_11ee_905f_dde84d46429brow2_col1{\n",
       "            background-color:  #4db163;\n",
       "            color:  #000000;\n",
       "        }#T_d2fbfc28_89ee_11ee_905f_dde84d46429brow3_col1{\n",
       "            background-color:  #7dc87e;\n",
       "            color:  #000000;\n",
       "        }#T_d2fbfc28_89ee_11ee_905f_dde84d46429brow4_col1{\n",
       "            background-color:  #a8dca2;\n",
       "            color:  #000000;\n",
       "        }#T_d2fbfc28_89ee_11ee_905f_dde84d46429brow5_col1,#T_d2fbfc28_89ee_11ee_905f_dde84d46429brow6_col1{\n",
       "            background-color:  #b4e1ad;\n",
       "            color:  #000000;\n",
       "        }#T_d2fbfc28_89ee_11ee_905f_dde84d46429brow7_col1{\n",
       "            background-color:  #c6e8bf;\n",
       "            color:  #000000;\n",
       "        }#T_d2fbfc28_89ee_11ee_905f_dde84d46429brow8_col1{\n",
       "            background-color:  #dff3da;\n",
       "            color:  #000000;\n",
       "        }#T_d2fbfc28_89ee_11ee_905f_dde84d46429brow9_col1{\n",
       "            background-color:  #e4f5df;\n",
       "            color:  #000000;\n",
       "        }#T_d2fbfc28_89ee_11ee_905f_dde84d46429brow10_col1,#T_d2fbfc28_89ee_11ee_905f_dde84d46429brow11_col1{\n",
       "            background-color:  #e9f7e5;\n",
       "            color:  #000000;\n",
       "        }#T_d2fbfc28_89ee_11ee_905f_dde84d46429brow12_col1{\n",
       "            background-color:  #edf8e9;\n",
       "            color:  #000000;\n",
       "        }#T_d2fbfc28_89ee_11ee_905f_dde84d46429brow13_col1{\n",
       "            background-color:  #eef8ea;\n",
       "            color:  #000000;\n",
       "        }#T_d2fbfc28_89ee_11ee_905f_dde84d46429brow14_col1{\n",
       "            background-color:  #f0f9ed;\n",
       "            color:  #000000;\n",
       "        }#T_d2fbfc28_89ee_11ee_905f_dde84d46429brow15_col1,#T_d2fbfc28_89ee_11ee_905f_dde84d46429brow16_col1{\n",
       "            background-color:  #f1faee;\n",
       "            color:  #000000;\n",
       "        }#T_d2fbfc28_89ee_11ee_905f_dde84d46429brow17_col1{\n",
       "            background-color:  #f4fbf2;\n",
       "            color:  #000000;\n",
       "        }#T_d2fbfc28_89ee_11ee_905f_dde84d46429brow18_col1,#T_d2fbfc28_89ee_11ee_905f_dde84d46429brow19_col1{\n",
       "            background-color:  #f5fbf2;\n",
       "            color:  #000000;\n",
       "        }#T_d2fbfc28_89ee_11ee_905f_dde84d46429brow20_col1{\n",
       "            background-color:  #f5fbf3;\n",
       "            color:  #000000;\n",
       "        }#T_d2fbfc28_89ee_11ee_905f_dde84d46429brow21_col1{\n",
       "            background-color:  #f6fcf4;\n",
       "            color:  #000000;\n",
       "        }#T_d2fbfc28_89ee_11ee_905f_dde84d46429brow22_col1,#T_d2fbfc28_89ee_11ee_905f_dde84d46429brow23_col1,#T_d2fbfc28_89ee_11ee_905f_dde84d46429brow24_col1{\n",
       "            background-color:  #f7fcf5;\n",
       "            color:  #000000;\n",
       "        }</style><table id=\"T_d2fbfc28_89ee_11ee_905f_dde84d46429b\" ><thead>    <tr>        <th class=\"blank level0\" ></th>        <th class=\"col_heading level0 col0\" >Top Words</th>        <th class=\"col_heading level0 col1\" >Count</th>    </tr></thead><tbody>\n",
       "                <tr>\n",
       "                        <th id=\"T_d2fbfc28_89ee_11ee_905f_dde84d46429blevel0_row0\" class=\"row_heading level0 row0\" >0</th>\n",
       "                        <td id=\"T_d2fbfc28_89ee_11ee_905f_dde84d46429brow0_col0\" class=\"data row0 col0\" >bulli</td>\n",
       "                        <td id=\"T_d2fbfc28_89ee_11ee_905f_dde84d46429brow0_col1\" class=\"data row0 col1\" >884</td>\n",
       "            </tr>\n",
       "            <tr>\n",
       "                        <th id=\"T_d2fbfc28_89ee_11ee_905f_dde84d46429blevel0_row1\" class=\"row_heading level0 row1\" >1</th>\n",
       "                        <td id=\"T_d2fbfc28_89ee_11ee_905f_dde84d46429brow1_col0\" class=\"data row1 col0\" >rt</td>\n",
       "                        <td id=\"T_d2fbfc28_89ee_11ee_905f_dde84d46429brow1_col1\" class=\"data row1 col1\" >717</td>\n",
       "            </tr>\n",
       "            <tr>\n",
       "                        <th id=\"T_d2fbfc28_89ee_11ee_905f_dde84d46429blevel0_row2\" class=\"row_heading level0 row2\" >2</th>\n",
       "                        <td id=\"T_d2fbfc28_89ee_11ee_905f_dde84d46429brow2_col0\" class=\"data row2 col0\" >im</td>\n",
       "                        <td id=\"T_d2fbfc28_89ee_11ee_905f_dde84d46429brow2_col1\" class=\"data row2 col1\" >595</td>\n",
       "            </tr>\n",
       "            <tr>\n",
       "                        <th id=\"T_d2fbfc28_89ee_11ee_905f_dde84d46429blevel0_row3\" class=\"row_heading level0 row3\" >3</th>\n",
       "                        <td id=\"T_d2fbfc28_89ee_11ee_905f_dde84d46429brow3_col0\" class=\"data row3 col0\" >fuck</td>\n",
       "                        <td id=\"T_d2fbfc28_89ee_11ee_905f_dde84d46429brow3_col1\" class=\"data row3 col1\" >509</td>\n",
       "            </tr>\n",
       "            <tr>\n",
       "                        <th id=\"T_d2fbfc28_89ee_11ee_905f_dde84d46429blevel0_row4\" class=\"row_heading level0 row4\" >4</th>\n",
       "                        <td id=\"T_d2fbfc28_89ee_11ee_905f_dde84d46429brow4_col0\" class=\"data row4 col0\" >like</td>\n",
       "                        <td id=\"T_d2fbfc28_89ee_11ee_905f_dde84d46429brow4_col1\" class=\"data row4 col1\" >423</td>\n",
       "            </tr>\n",
       "            <tr>\n",
       "                        <th id=\"T_d2fbfc28_89ee_11ee_905f_dde84d46429blevel0_row5\" class=\"row_heading level0 row5\" >5</th>\n",
       "                        <td id=\"T_d2fbfc28_89ee_11ee_905f_dde84d46429brow5_col0\" class=\"data row5 col0\" >get</td>\n",
       "                        <td id=\"T_d2fbfc28_89ee_11ee_905f_dde84d46429brow5_col1\" class=\"data row5 col1\" >393</td>\n",
       "            </tr>\n",
       "            <tr>\n",
       "                        <th id=\"T_d2fbfc28_89ee_11ee_905f_dde84d46429blevel0_row6\" class=\"row_heading level0 row6\" >6</th>\n",
       "                        <td id=\"T_d2fbfc28_89ee_11ee_905f_dde84d46429brow6_col0\" class=\"data row6 col0\" >dont</td>\n",
       "                        <td id=\"T_d2fbfc28_89ee_11ee_905f_dde84d46429brow6_col1\" class=\"data row6 col1\" >393</td>\n",
       "            </tr>\n",
       "            <tr>\n",
       "                        <th id=\"T_d2fbfc28_89ee_11ee_905f_dde84d46429blevel0_row7\" class=\"row_heading level0 row7\" >7</th>\n",
       "                        <td id=\"T_d2fbfc28_89ee_11ee_905f_dde84d46429brow7_col0\" class=\"data row7 col0\" >peopl</td>\n",
       "                        <td id=\"T_d2fbfc28_89ee_11ee_905f_dde84d46429brow7_col1\" class=\"data row7 col1\" >352</td>\n",
       "            </tr>\n",
       "            <tr>\n",
       "                        <th id=\"T_d2fbfc28_89ee_11ee_905f_dde84d46429blevel0_row8\" class=\"row_heading level0 row8\" >8</th>\n",
       "                        <td id=\"T_d2fbfc28_89ee_11ee_905f_dde84d46429brow8_col0\" class=\"data row8 col0\" >go</td>\n",
       "                        <td id=\"T_d2fbfc28_89ee_11ee_905f_dde84d46429brow8_col1\" class=\"data row8 col1\" >277</td>\n",
       "            </tr>\n",
       "            <tr>\n",
       "                        <th id=\"T_d2fbfc28_89ee_11ee_905f_dde84d46429blevel0_row9\" class=\"row_heading level0 row9\" >9</th>\n",
       "                        <td id=\"T_d2fbfc28_89ee_11ee_905f_dde84d46429brow9_col0\" class=\"data row9 col0\" >idiot</td>\n",
       "                        <td id=\"T_d2fbfc28_89ee_11ee_905f_dde84d46429brow9_col1\" class=\"data row9 col1\" >262</td>\n",
       "            </tr>\n",
       "            <tr>\n",
       "                        <th id=\"T_d2fbfc28_89ee_11ee_905f_dde84d46429blevel0_row10\" class=\"row_heading level0 row10\" >10</th>\n",
       "                        <td id=\"T_d2fbfc28_89ee_11ee_905f_dde84d46429brow10_col0\" class=\"data row10 col0\" >know</td>\n",
       "                        <td id=\"T_d2fbfc28_89ee_11ee_905f_dde84d46429brow10_col1\" class=\"data row10 col1\" >241</td>\n",
       "            </tr>\n",
       "            <tr>\n",
       "                        <th id=\"T_d2fbfc28_89ee_11ee_905f_dde84d46429blevel0_row11\" class=\"row_heading level0 row11\" >11</th>\n",
       "                        <td id=\"T_d2fbfc28_89ee_11ee_905f_dde84d46429brow11_col0\" class=\"data row11 col0\" >think</td>\n",
       "                        <td id=\"T_d2fbfc28_89ee_11ee_905f_dde84d46429brow11_col1\" class=\"data row11 col1\" >238</td>\n",
       "            </tr>\n",
       "            <tr>\n",
       "                        <th id=\"T_d2fbfc28_89ee_11ee_905f_dde84d46429blevel0_row12\" class=\"row_heading level0 row12\" >12</th>\n",
       "                        <td id=\"T_d2fbfc28_89ee_11ee_905f_dde84d46429brow12_col0\" class=\"data row12 col0\" >u</td>\n",
       "                        <td id=\"T_d2fbfc28_89ee_11ee_905f_dde84d46429brow12_col1\" class=\"data row12 col1\" >221</td>\n",
       "            </tr>\n",
       "            <tr>\n",
       "                        <th id=\"T_d2fbfc28_89ee_11ee_905f_dde84d46429blevel0_row13\" class=\"row_heading level0 row13\" >13</th>\n",
       "                        <td id=\"T_d2fbfc28_89ee_11ee_905f_dde84d46429brow13_col0\" class=\"data row13 col0\" >make</td>\n",
       "                        <td id=\"T_d2fbfc28_89ee_11ee_905f_dde84d46429brow13_col1\" class=\"data row13 col1\" >215</td>\n",
       "            </tr>\n",
       "            <tr>\n",
       "                        <th id=\"T_d2fbfc28_89ee_11ee_905f_dde84d46429blevel0_row14\" class=\"row_heading level0 row14\" >14</th>\n",
       "                        <td id=\"T_d2fbfc28_89ee_11ee_905f_dde84d46429brow14_col0\" class=\"data row14 col0\" >one</td>\n",
       "                        <td id=\"T_d2fbfc28_89ee_11ee_905f_dde84d46429brow14_col1\" class=\"data row14 col1\" >204</td>\n",
       "            </tr>\n",
       "            <tr>\n",
       "                        <th id=\"T_d2fbfc28_89ee_11ee_905f_dde84d46429blevel0_row15\" class=\"row_heading level0 row15\" >15</th>\n",
       "                        <td id=\"T_d2fbfc28_89ee_11ee_905f_dde84d46429brow15_col0\" class=\"data row15 col0\" >time</td>\n",
       "                        <td id=\"T_d2fbfc28_89ee_11ee_905f_dde84d46429brow15_col1\" class=\"data row15 col1\" >201</td>\n",
       "            </tr>\n",
       "            <tr>\n",
       "                        <th id=\"T_d2fbfc28_89ee_11ee_905f_dde84d46429blevel0_row16\" class=\"row_heading level0 row16\" >16</th>\n",
       "                        <td id=\"T_d2fbfc28_89ee_11ee_905f_dde84d46429brow16_col0\" class=\"data row16 col0\" >hate</td>\n",
       "                        <td id=\"T_d2fbfc28_89ee_11ee_905f_dde84d46429brow16_col1\" class=\"data row16 col1\" >198</td>\n",
       "            </tr>\n",
       "            <tr>\n",
       "                        <th id=\"T_d2fbfc28_89ee_11ee_905f_dde84d46429blevel0_row17\" class=\"row_heading level0 row17\" >17</th>\n",
       "                        <td id=\"T_d2fbfc28_89ee_11ee_905f_dde84d46429brow17_col0\" class=\"data row17 col0\" >want</td>\n",
       "                        <td id=\"T_d2fbfc28_89ee_11ee_905f_dde84d46429brow17_col1\" class=\"data row17 col1\" >183</td>\n",
       "            </tr>\n",
       "            <tr>\n",
       "                        <th id=\"T_d2fbfc28_89ee_11ee_905f_dde84d46429blevel0_row18\" class=\"row_heading level0 row18\" >18</th>\n",
       "                        <td id=\"T_d2fbfc28_89ee_11ee_905f_dde84d46429brow18_col0\" class=\"data row18 col0\" >need</td>\n",
       "                        <td id=\"T_d2fbfc28_89ee_11ee_905f_dde84d46429brow18_col1\" class=\"data row18 col1\" >182</td>\n",
       "            </tr>\n",
       "            <tr>\n",
       "                        <th id=\"T_d2fbfc28_89ee_11ee_905f_dde84d46429blevel0_row19\" class=\"row_heading level0 row19\" >19</th>\n",
       "                        <td id=\"T_d2fbfc28_89ee_11ee_905f_dde84d46429brow19_col0\" class=\"data row19 col0\" >thing</td>\n",
       "                        <td id=\"T_d2fbfc28_89ee_11ee_905f_dde84d46429brow19_col1\" class=\"data row19 col1\" >181</td>\n",
       "            </tr>\n",
       "            <tr>\n",
       "                        <th id=\"T_d2fbfc28_89ee_11ee_905f_dde84d46429blevel0_row20\" class=\"row_heading level0 row20\" >20</th>\n",
       "                        <td id=\"T_d2fbfc28_89ee_11ee_905f_dde84d46429brow20_col0\" class=\"data row20 col0\" >see</td>\n",
       "                        <td id=\"T_d2fbfc28_89ee_11ee_905f_dde84d46429brow20_col1\" class=\"data row20 col1\" >179</td>\n",
       "            </tr>\n",
       "            <tr>\n",
       "                        <th id=\"T_d2fbfc28_89ee_11ee_905f_dde84d46429blevel0_row21\" class=\"row_heading level0 row21\" >21</th>\n",
       "                        <td id=\"T_d2fbfc28_89ee_11ee_905f_dde84d46429brow21_col0\" class=\"data row21 col0\" >got</td>\n",
       "                        <td id=\"T_d2fbfc28_89ee_11ee_905f_dde84d46429brow21_col1\" class=\"data row21 col1\" >175</td>\n",
       "            </tr>\n",
       "            <tr>\n",
       "                        <th id=\"T_d2fbfc28_89ee_11ee_905f_dde84d46429blevel0_row22\" class=\"row_heading level0 row22\" >22</th>\n",
       "                        <td id=\"T_d2fbfc28_89ee_11ee_905f_dde84d46429brow22_col0\" class=\"data row22 col0\" >use</td>\n",
       "                        <td id=\"T_d2fbfc28_89ee_11ee_905f_dde84d46429brow22_col1\" class=\"data row22 col1\" >171</td>\n",
       "            </tr>\n",
       "            <tr>\n",
       "                        <th id=\"T_d2fbfc28_89ee_11ee_905f_dde84d46429blevel0_row23\" class=\"row_heading level0 row23\" >23</th>\n",
       "                        <td id=\"T_d2fbfc28_89ee_11ee_905f_dde84d46429brow23_col0\" class=\"data row23 col0\" >would</td>\n",
       "                        <td id=\"T_d2fbfc28_89ee_11ee_905f_dde84d46429brow23_col1\" class=\"data row23 col1\" >170</td>\n",
       "            </tr>\n",
       "            <tr>\n",
       "                        <th id=\"T_d2fbfc28_89ee_11ee_905f_dde84d46429blevel0_row24\" class=\"row_heading level0 row24\" >24</th>\n",
       "                        <td id=\"T_d2fbfc28_89ee_11ee_905f_dde84d46429brow24_col0\" class=\"data row24 col0\" >call</td>\n",
       "                        <td id=\"T_d2fbfc28_89ee_11ee_905f_dde84d46429brow24_col1\" class=\"data row24 col1\" >169</td>\n",
       "            </tr>\n",
       "    </tbody></table>"
      ],
      "text/plain": [
       "<pandas.io.formats.style.Styler at 0x29265578908>"
      ]
     },
     "execution_count": 47,
     "metadata": {},
     "output_type": "execute_result"
    }
   ],
   "source": [
    "other_cyberbullying = Counter([item for sublist in other_cyberbullying_type['tweet_list'] for item in sublist])\n",
    "top25_other_cyberbullying = pd.DataFrame(other_cyberbullying.most_common(25))\n",
    "top25_other_cyberbullying.columns = ['Top Words','Count']\n",
    "top25_other_cyberbullying.style.background_gradient(cmap='Greens')"
   ]
  },
  {
   "cell_type": "code",
   "execution_count": 48,
   "id": "07a559bc",
   "metadata": {
    "scrolled": true
   },
   "outputs": [
    {
     "data": {
      "text/plain": [
       "Text(0.5, 1.0, 'Top 25 words in Other Cyberbullying')"
      ]
     },
     "execution_count": 48,
     "metadata": {},
     "output_type": "execute_result"
    },
    {
     "data": {
      "image/png": "[encoded data removed]",
      "text/plain": [
       "<Figure size 1080x576 with 1 Axes>"
      ]
     },
     "metadata": {
      "needs_background": "light"
     },
     "output_type": "display_data"
    }
   ],
   "source": [
    "fig = plt.figure(figsize=(15,8))\n",
    "sns.barplot(data=top25_other_cyberbullying, y=\"Count\", x=\"Top Words\")\n",
    "plt.title(\"Top 25 words in Other Cyberbullying\")"
   ]
  },
  {
   "cell_type": "code",
   "execution_count": 49,
   "id": "afa351de",
   "metadata": {},
   "outputs": [
    {
     "data": {
      "text/html": [
       "<style  type=\"text/css\" >\n",
       "#T_d336f8f6_89ee_11ee_bde3_dde84d46429brow0_col1{\n",
       "            background-color:  #00441b;\n",
       "            color:  #f1f1f1;\n",
       "        }#T_d336f8f6_89ee_11ee_bde3_dde84d46429brow1_col1{\n",
       "            background-color:  #43ac5e;\n",
       "            color:  #000000;\n",
       "        }#T_d336f8f6_89ee_11ee_bde3_dde84d46429brow2_col1{\n",
       "            background-color:  #98d594;\n",
       "            color:  #000000;\n",
       "        }#T_d336f8f6_89ee_11ee_bde3_dde84d46429brow3_col1{\n",
       "            background-color:  #d5efcf;\n",
       "            color:  #000000;\n",
       "        }#T_d336f8f6_89ee_11ee_bde3_dde84d46429brow4_col1{\n",
       "            background-color:  #dcf2d7;\n",
       "            color:  #000000;\n",
       "        }#T_d336f8f6_89ee_11ee_bde3_dde84d46429brow5_col1{\n",
       "            background-color:  #ddf2d8;\n",
       "            color:  #000000;\n",
       "        }#T_d336f8f6_89ee_11ee_bde3_dde84d46429brow6_col1{\n",
       "            background-color:  #e2f4dd;\n",
       "            color:  #000000;\n",
       "        }#T_d336f8f6_89ee_11ee_bde3_dde84d46429brow7_col1,#T_d336f8f6_89ee_11ee_bde3_dde84d46429brow8_col1{\n",
       "            background-color:  #e5f5e0;\n",
       "            color:  #000000;\n",
       "        }#T_d336f8f6_89ee_11ee_bde3_dde84d46429brow9_col1{\n",
       "            background-color:  #edf8ea;\n",
       "            color:  #000000;\n",
       "        }#T_d336f8f6_89ee_11ee_bde3_dde84d46429brow10_col1{\n",
       "            background-color:  #eff9ec;\n",
       "            color:  #000000;\n",
       "        }#T_d336f8f6_89ee_11ee_bde3_dde84d46429brow11_col1{\n",
       "            background-color:  #f0f9ec;\n",
       "            color:  #000000;\n",
       "        }#T_d336f8f6_89ee_11ee_bde3_dde84d46429brow12_col1{\n",
       "            background-color:  #f0f9ed;\n",
       "            color:  #000000;\n",
       "        }#T_d336f8f6_89ee_11ee_bde3_dde84d46429brow13_col1{\n",
       "            background-color:  #f2faef;\n",
       "            color:  #000000;\n",
       "        }#T_d336f8f6_89ee_11ee_bde3_dde84d46429brow14_col1,#T_d336f8f6_89ee_11ee_bde3_dde84d46429brow15_col1{\n",
       "            background-color:  #f3faf0;\n",
       "            color:  #000000;\n",
       "        }#T_d336f8f6_89ee_11ee_bde3_dde84d46429brow16_col1{\n",
       "            background-color:  #f4fbf1;\n",
       "            color:  #000000;\n",
       "        }#T_d336f8f6_89ee_11ee_bde3_dde84d46429brow17_col1{\n",
       "            background-color:  #f4fbf2;\n",
       "            color:  #000000;\n",
       "        }#T_d336f8f6_89ee_11ee_bde3_dde84d46429brow18_col1,#T_d336f8f6_89ee_11ee_bde3_dde84d46429brow19_col1{\n",
       "            background-color:  #f5fbf3;\n",
       "            color:  #000000;\n",
       "        }#T_d336f8f6_89ee_11ee_bde3_dde84d46429brow20_col1{\n",
       "            background-color:  #f6fcf4;\n",
       "            color:  #000000;\n",
       "        }#T_d336f8f6_89ee_11ee_bde3_dde84d46429brow21_col1,#T_d336f8f6_89ee_11ee_bde3_dde84d46429brow22_col1,#T_d336f8f6_89ee_11ee_bde3_dde84d46429brow23_col1,#T_d336f8f6_89ee_11ee_bde3_dde84d46429brow24_col1{\n",
       "            background-color:  #f7fcf5;\n",
       "            color:  #000000;\n",
       "        }</style><table id=\"T_d336f8f6_89ee_11ee_bde3_dde84d46429b\" ><thead>    <tr>        <th class=\"blank level0\" ></th>        <th class=\"col_heading level0 col0\" >Top Words</th>        <th class=\"col_heading level0 col1\" >Count</th>    </tr></thead><tbody>\n",
       "                <tr>\n",
       "                        <th id=\"T_d336f8f6_89ee_11ee_bde3_dde84d46429blevel0_row0\" class=\"row_heading level0 row0\" >0</th>\n",
       "                        <td id=\"T_d336f8f6_89ee_11ee_bde3_dde84d46429brow0_col0\" class=\"data row0 col0\" >mkr</td>\n",
       "                        <td id=\"T_d336f8f6_89ee_11ee_bde3_dde84d46429brow0_col1\" class=\"data row0 col1\" >1667</td>\n",
       "            </tr>\n",
       "            <tr>\n",
       "                        <th id=\"T_d336f8f6_89ee_11ee_bde3_dde84d46429blevel0_row1\" class=\"row_heading level0 row1\" >1</th>\n",
       "                        <td id=\"T_d336f8f6_89ee_11ee_bde3_dde84d46429brow1_col0\" class=\"data row1 col0\" >bulli</td>\n",
       "                        <td id=\"T_d336f8f6_89ee_11ee_bde3_dde84d46429brow1_col1\" class=\"data row1 col1\" >1101</td>\n",
       "            </tr>\n",
       "            <tr>\n",
       "                        <th id=\"T_d336f8f6_89ee_11ee_bde3_dde84d46429blevel0_row2\" class=\"row_heading level0 row2\" >2</th>\n",
       "                        <td id=\"T_d336f8f6_89ee_11ee_bde3_dde84d46429brow2_col0\" class=\"data row2 col0\" >rt</td>\n",
       "                        <td id=\"T_d336f8f6_89ee_11ee_bde3_dde84d46429brow2_col1\" class=\"data row2 col1\" >781</td>\n",
       "            </tr>\n",
       "            <tr>\n",
       "                        <th id=\"T_d336f8f6_89ee_11ee_bde3_dde84d46429blevel0_row3\" class=\"row_heading level0 row3\" >3</th>\n",
       "                        <td id=\"T_d336f8f6_89ee_11ee_bde3_dde84d46429brow3_col0\" class=\"data row3 col0\" >im</td>\n",
       "                        <td id=\"T_d336f8f6_89ee_11ee_bde3_dde84d46429brow3_col1\" class=\"data row3 col1\" >474</td>\n",
       "            </tr>\n",
       "            <tr>\n",
       "                        <th id=\"T_d336f8f6_89ee_11ee_bde3_dde84d46429blevel0_row4\" class=\"row_heading level0 row4\" >4</th>\n",
       "                        <td id=\"T_d336f8f6_89ee_11ee_bde3_dde84d46429brow4_col0\" class=\"data row4 col0\" >like</td>\n",
       "                        <td id=\"T_d336f8f6_89ee_11ee_bde3_dde84d46429brow4_col1\" class=\"data row4 col1\" >424</td>\n",
       "            </tr>\n",
       "            <tr>\n",
       "                        <th id=\"T_d336f8f6_89ee_11ee_bde3_dde84d46429blevel0_row5\" class=\"row_heading level0 row5\" >5</th>\n",
       "                        <td id=\"T_d336f8f6_89ee_11ee_bde3_dde84d46429brow5_col0\" class=\"data row5 col0\" >get</td>\n",
       "                        <td id=\"T_d336f8f6_89ee_11ee_bde3_dde84d46429brow5_col1\" class=\"data row5 col1\" >423</td>\n",
       "            </tr>\n",
       "            <tr>\n",
       "                        <th id=\"T_d336f8f6_89ee_11ee_bde3_dde84d46429blevel0_row6\" class=\"row_heading level0 row6\" >6</th>\n",
       "                        <td id=\"T_d336f8f6_89ee_11ee_bde3_dde84d46429brow6_col0\" class=\"data row6 col0\" >go</td>\n",
       "                        <td id=\"T_d336f8f6_89ee_11ee_bde3_dde84d46429brow6_col1\" class=\"data row6 col1\" >394</td>\n",
       "            </tr>\n",
       "            <tr>\n",
       "                        <th id=\"T_d336f8f6_89ee_11ee_bde3_dde84d46429blevel0_row7\" class=\"row_heading level0 row7\" >7</th>\n",
       "                        <td id=\"T_d336f8f6_89ee_11ee_bde3_dde84d46429brow7_col0\" class=\"data row7 col0\" >school</td>\n",
       "                        <td id=\"T_d336f8f6_89ee_11ee_bde3_dde84d46429brow7_col1\" class=\"data row7 col1\" >375</td>\n",
       "            </tr>\n",
       "            <tr>\n",
       "                        <th id=\"T_d336f8f6_89ee_11ee_bde3_dde84d46429blevel0_row8\" class=\"row_heading level0 row8\" >8</th>\n",
       "                        <td id=\"T_d336f8f6_89ee_11ee_bde3_dde84d46429brow8_col0\" class=\"data row8 col0\" >dont</td>\n",
       "                        <td id=\"T_d336f8f6_89ee_11ee_bde3_dde84d46429brow8_col1\" class=\"data row8 col1\" >373</td>\n",
       "            </tr>\n",
       "            <tr>\n",
       "                        <th id=\"T_d336f8f6_89ee_11ee_bde3_dde84d46429blevel0_row9\" class=\"row_heading level0 row9\" >9</th>\n",
       "                        <td id=\"T_d336f8f6_89ee_11ee_bde3_dde84d46429brow9_col0\" class=\"data row9 col0\" >kat</td>\n",
       "                        <td id=\"T_d336f8f6_89ee_11ee_bde3_dde84d46429brow9_col1\" class=\"data row9 col1\" >286</td>\n",
       "            </tr>\n",
       "            <tr>\n",
       "                        <th id=\"T_d336f8f6_89ee_11ee_bde3_dde84d46429blevel0_row10\" class=\"row_heading level0 row10\" >10</th>\n",
       "                        <td id=\"T_d336f8f6_89ee_11ee_bde3_dde84d46429brow10_col0\" class=\"data row10 col0\" >peopl</td>\n",
       "                        <td id=\"T_d336f8f6_89ee_11ee_bde3_dde84d46429brow10_col1\" class=\"data row10 col1\" >272</td>\n",
       "            </tr>\n",
       "            <tr>\n",
       "                        <th id=\"T_d336f8f6_89ee_11ee_bde3_dde84d46429blevel0_row11\" class=\"row_heading level0 row11\" >11</th>\n",
       "                        <td id=\"T_d336f8f6_89ee_11ee_bde3_dde84d46429brow11_col0\" class=\"data row11 col0\" >one</td>\n",
       "                        <td id=\"T_d336f8f6_89ee_11ee_bde3_dde84d46429brow11_col1\" class=\"data row11 col1\" >266</td>\n",
       "            </tr>\n",
       "            <tr>\n",
       "                        <th id=\"T_d336f8f6_89ee_11ee_bde3_dde84d46429blevel0_row12\" class=\"row_heading level0 row12\" >12</th>\n",
       "                        <td id=\"T_d336f8f6_89ee_11ee_bde3_dde84d46429brow12_col0\" class=\"data row12 col0\" >amp</td>\n",
       "                        <td id=\"T_d336f8f6_89ee_11ee_bde3_dde84d46429brow12_col1\" class=\"data row12 col1\" >258</td>\n",
       "            </tr>\n",
       "            <tr>\n",
       "                        <th id=\"T_d336f8f6_89ee_11ee_bde3_dde84d46429blevel0_row13\" class=\"row_heading level0 row13\" >13</th>\n",
       "                        <td id=\"T_d336f8f6_89ee_11ee_bde3_dde84d46429brow13_col0\" class=\"data row13 col0\" >think</td>\n",
       "                        <td id=\"T_d336f8f6_89ee_11ee_bde3_dde84d46429brow13_col1\" class=\"data row13 col1\" >242</td>\n",
       "            </tr>\n",
       "            <tr>\n",
       "                        <th id=\"T_d336f8f6_89ee_11ee_bde3_dde84d46429blevel0_row14\" class=\"row_heading level0 row14\" >14</th>\n",
       "                        <td id=\"T_d336f8f6_89ee_11ee_bde3_dde84d46429brow14_col0\" class=\"data row14 col0\" >u</td>\n",
       "                        <td id=\"T_d336f8f6_89ee_11ee_bde3_dde84d46429brow14_col1\" class=\"data row14 col1\" >231</td>\n",
       "            </tr>\n",
       "            <tr>\n",
       "                        <th id=\"T_d336f8f6_89ee_11ee_bde3_dde84d46429blevel0_row15\" class=\"row_heading level0 row15\" >15</th>\n",
       "                        <td id=\"T_d336f8f6_89ee_11ee_bde3_dde84d46429brow15_col0\" class=\"data row15 col0\" >know</td>\n",
       "                        <td id=\"T_d336f8f6_89ee_11ee_bde3_dde84d46429brow15_col1\" class=\"data row15 col1\" >229</td>\n",
       "            </tr>\n",
       "            <tr>\n",
       "                        <th id=\"T_d336f8f6_89ee_11ee_bde3_dde84d46429blevel0_row16\" class=\"row_heading level0 row16\" >16</th>\n",
       "                        <td id=\"T_d336f8f6_89ee_11ee_bde3_dde84d46429brow16_col0\" class=\"data row16 col0\" >time</td>\n",
       "                        <td id=\"T_d336f8f6_89ee_11ee_bde3_dde84d46429brow16_col1\" class=\"data row16 col1\" >224</td>\n",
       "            </tr>\n",
       "            <tr>\n",
       "                        <th id=\"T_d336f8f6_89ee_11ee_bde3_dde84d46429blevel0_row17\" class=\"row_heading level0 row17\" >17</th>\n",
       "                        <td id=\"T_d336f8f6_89ee_11ee_bde3_dde84d46429brow17_col0\" class=\"data row17 col0\" >make</td>\n",
       "                        <td id=\"T_d336f8f6_89ee_11ee_bde3_dde84d46429brow17_col1\" class=\"data row17 col1\" >219</td>\n",
       "            </tr>\n",
       "            <tr>\n",
       "                        <th id=\"T_d336f8f6_89ee_11ee_bde3_dde84d46429blevel0_row18\" class=\"row_heading level0 row18\" >18</th>\n",
       "                        <td id=\"T_d336f8f6_89ee_11ee_bde3_dde84d46429brow18_col0\" class=\"data row18 col0\" >love</td>\n",
       "                        <td id=\"T_d336f8f6_89ee_11ee_bde3_dde84d46429brow18_col1\" class=\"data row18 col1\" >207</td>\n",
       "            </tr>\n",
       "            <tr>\n",
       "                        <th id=\"T_d336f8f6_89ee_11ee_bde3_dde84d46429blevel0_row19\" class=\"row_heading level0 row19\" >19</th>\n",
       "                        <td id=\"T_d336f8f6_89ee_11ee_bde3_dde84d46429brow19_col0\" class=\"data row19 col0\" >would</td>\n",
       "                        <td id=\"T_d336f8f6_89ee_11ee_bde3_dde84d46429brow19_col1\" class=\"data row19 col1\" >204</td>\n",
       "            </tr>\n",
       "            <tr>\n",
       "                        <th id=\"T_d336f8f6_89ee_11ee_bde3_dde84d46429blevel0_row20\" class=\"row_heading level0 row20\" >20</th>\n",
       "                        <td id=\"T_d336f8f6_89ee_11ee_bde3_dde84d46429brow20_col0\" class=\"data row20 col0\" >andr</td>\n",
       "                        <td id=\"T_d336f8f6_89ee_11ee_bde3_dde84d46429brow20_col1\" class=\"data row20 col1\" >194</td>\n",
       "            </tr>\n",
       "            <tr>\n",
       "                        <th id=\"T_d336f8f6_89ee_11ee_bde3_dde84d46429blevel0_row21\" class=\"row_heading level0 row21\" >21</th>\n",
       "                        <td id=\"T_d336f8f6_89ee_11ee_bde3_dde84d46429brow21_col0\" class=\"data row21 col0\" >need</td>\n",
       "                        <td id=\"T_d336f8f6_89ee_11ee_bde3_dde84d46429brow21_col1\" class=\"data row21 col1\" >191</td>\n",
       "            </tr>\n",
       "            <tr>\n",
       "                        <th id=\"T_d336f8f6_89ee_11ee_bde3_dde84d46429blevel0_row22\" class=\"row_heading level0 row22\" >22</th>\n",
       "                        <td id=\"T_d336f8f6_89ee_11ee_bde3_dde84d46429brow22_col0\" class=\"data row22 col0\" >woman</td>\n",
       "                        <td id=\"T_d336f8f6_89ee_11ee_bde3_dde84d46429brow22_col1\" class=\"data row22 col1\" >189</td>\n",
       "            </tr>\n",
       "            <tr>\n",
       "                        <th id=\"T_d336f8f6_89ee_11ee_bde3_dde84d46429blevel0_row23\" class=\"row_heading level0 row23\" >23</th>\n",
       "                        <td id=\"T_d336f8f6_89ee_11ee_bde3_dde84d46429brow23_col0\" class=\"data row23 col0\" >fuck</td>\n",
       "                        <td id=\"T_d336f8f6_89ee_11ee_bde3_dde84d46429brow23_col1\" class=\"data row23 col1\" >188</td>\n",
       "            </tr>\n",
       "            <tr>\n",
       "                        <th id=\"T_d336f8f6_89ee_11ee_bde3_dde84d46429blevel0_row24\" class=\"row_heading level0 row24\" >24</th>\n",
       "                        <td id=\"T_d336f8f6_89ee_11ee_bde3_dde84d46429brow24_col0\" class=\"data row24 col0\" >see</td>\n",
       "                        <td id=\"T_d336f8f6_89ee_11ee_bde3_dde84d46429brow24_col1\" class=\"data row24 col1\" >186</td>\n",
       "            </tr>\n",
       "    </tbody></table>"
      ],
      "text/plain": [
       "<pandas.io.formats.style.Styler at 0x292656a2470>"
      ]
     },
     "execution_count": 49,
     "metadata": {},
     "output_type": "execute_result"
    }
   ],
   "source": [
    "not_cyberbullying = Counter([item for sublist in not_cyberbullying_type['tweet_list'] for item in sublist])\n",
    "top25_not_cyberbullying = pd.DataFrame(not_cyberbullying.most_common(25))\n",
    "top25_not_cyberbullying.columns = ['Top Words','Count']\n",
    "top25_not_cyberbullying.style.background_gradient(cmap='Greens')"
   ]
  },
  {
   "cell_type": "code",
   "execution_count": 50,
   "id": "a0516ce8",
   "metadata": {},
   "outputs": [
    {
     "data": {
      "text/plain": [
       "Text(0.5, 1.0, 'Top 25 words in Not Cyberbullying')"
      ]
     },
     "execution_count": 50,
     "metadata": {},
     "output_type": "execute_result"
    },
    {
     "data": {
      "image/png": "[encoded data removed]",
      "text/plain": [
       "<Figure size 1080x576 with 1 Axes>"
      ]
     },
     "metadata": {
      "needs_background": "light"
     },
     "output_type": "display_data"
    }
   ],
   "source": [
    "fig = plt.figure(figsize=(15,8))\n",
    "sns.barplot(data=top25_not_cyberbullying, y=\"Count\", x=\"Top Words\")\n",
    "plt.title(\"Top 25 words in Not Cyberbullying\")"
   ]
  },
  {
   "cell_type": "code",
   "execution_count": 51,
   "id": "eb6b5254",
   "metadata": {},
   "outputs": [
    {
     "data": {
      "text/html": [
       "<div>\n",
       "<style scoped>\n",
       "    .dataframe tbody tr th:only-of-type {\n",
       "        vertical-align: middle;\n",
       "    }\n",
       "\n",
       "    .dataframe tbody tr th {\n",
       "        vertical-align: top;\n",
       "    }\n",
       "\n",
       "    .dataframe thead th {\n",
       "        text-align: right;\n",
       "    }\n",
       "</style>\n",
       "<table border=\"1\" class=\"dataframe\">\n",
       "  <thead>\n",
       "    <tr style=\"text-align: right;\">\n",
       "      <th></th>\n",
       "      <th>text</th>\n",
       "      <th>sentiment</th>\n",
       "      <th>sentiment_encoded</th>\n",
       "      <th>cleaned_text</th>\n",
       "      <th>tweet_list</th>\n",
       "      <th>text_len</th>\n",
       "    </tr>\n",
       "  </thead>\n",
       "  <tbody>\n",
       "    <tr>\n",
       "      <th>0</th>\n",
       "      <td>In other words #katandandre, your food was cra...</td>\n",
       "      <td>not_cyberbullying</td>\n",
       "      <td>5</td>\n",
       "      <td>word katandandr food crapilici mkr</td>\n",
       "      <td>[word, katandandr, food, crapilici, mkr]</td>\n",
       "      <td>5</td>\n",
       "    </tr>\n",
       "    <tr>\n",
       "      <th>1</th>\n",
       "      <td>Why is #aussietv so white? #MKR #theblock #ImA...</td>\n",
       "      <td>not_cyberbullying</td>\n",
       "      <td>5</td>\n",
       "      <td>aussietv white mkr theblock imacelebrityau tod...</td>\n",
       "      <td>[aussietv, white, mkr, theblock, imacelebritya...</td>\n",
       "      <td>11</td>\n",
       "    </tr>\n",
       "    <tr>\n",
       "      <th>2</th>\n",
       "      <td>@XochitlSuckkks a classy whore? Or more red ve...</td>\n",
       "      <td>not_cyberbullying</td>\n",
       "      <td>5</td>\n",
       "      <td>classi whore red velvet cupcak</td>\n",
       "      <td>[classi, whore, red, velvet, cupcak]</td>\n",
       "      <td>5</td>\n",
       "    </tr>\n",
       "    <tr>\n",
       "      <th>3</th>\n",
       "      <td>@Jason_Gio meh. :P  thanks for the heads up, b...</td>\n",
       "      <td>not_cyberbullying</td>\n",
       "      <td>5</td>\n",
       "      <td>meh p thank head concern anoth angri dude twitter</td>\n",
       "      <td>[meh, p, thank, head, concern, anoth, angri, d...</td>\n",
       "      <td>9</td>\n",
       "    </tr>\n",
       "    <tr>\n",
       "      <th>4</th>\n",
       "      <td>@RudhoeEnglish This is an ISIS account pretend...</td>\n",
       "      <td>not_cyberbullying</td>\n",
       "      <td>5</td>\n",
       "      <td>isi account pretend kurdish account like islam...</td>\n",
       "      <td>[isi, account, pretend, kurdish, account, like...</td>\n",
       "      <td>8</td>\n",
       "    </tr>\n",
       "  </tbody>\n",
       "</table>\n",
       "</div>"
      ],
      "text/plain": [
       "                                                text          sentiment  \\\n",
       "0  In other words #katandandre, your food was cra...  not_cyberbullying   \n",
       "1  Why is #aussietv so white? #MKR #theblock #ImA...  not_cyberbullying   \n",
       "2  @XochitlSuckkks a classy whore? Or more red ve...  not_cyberbullying   \n",
       "3  @Jason_Gio meh. :P  thanks for the heads up, b...  not_cyberbullying   \n",
       "4  @RudhoeEnglish This is an ISIS account pretend...  not_cyberbullying   \n",
       "\n",
       "   sentiment_encoded                                       cleaned_text  \\\n",
       "0                  5                 word katandandr food crapilici mkr   \n",
       "1                  5  aussietv white mkr theblock imacelebrityau tod...   \n",
       "2                  5                     classi whore red velvet cupcak   \n",
       "3                  5  meh p thank head concern anoth angri dude twitter   \n",
       "4                  5  isi account pretend kurdish account like islam...   \n",
       "\n",
       "                                          tweet_list  text_len  \n",
       "0           [word, katandandr, food, crapilici, mkr]         5  \n",
       "1  [aussietv, white, mkr, theblock, imacelebritya...        11  \n",
       "2               [classi, whore, red, velvet, cupcak]         5  \n",
       "3  [meh, p, thank, head, concern, anoth, angri, d...         9  \n",
       "4  [isi, account, pretend, kurdish, account, like...         8  "
      ]
     },
     "execution_count": 51,
     "metadata": {},
     "output_type": "execute_result"
    }
   ],
   "source": [
    "df.head()"
   ]
  },
  {
   "cell_type": "code",
   "execution_count": 52,
   "id": "739c7ce8",
   "metadata": {},
   "outputs": [],
   "source": [
    "sentiments = [\"religion\", \"age\", \"ethnicity\", \"gender\", \"other_cyberbullying\", \"not_cyberbullying\"]"
   ]
  },
  {
   "cell_type": "code",
   "execution_count": 53,
   "id": "684e2bdc",
   "metadata": {},
   "outputs": [],
   "source": [
    "# Modelling"
   ]
  },
  {
   "cell_type": "code",
   "execution_count": 54,
   "id": "71e2e642",
   "metadata": {},
   "outputs": [],
   "source": [
    "# Splitting data into test and train"
   ]
  },
  {
   "cell_type": "code",
   "execution_count": 55,
   "id": "66c6ec1d",
   "metadata": {},
   "outputs": [],
   "source": [
    "X,Y = df['cleaned_text'],df['sentiment_encoded']"
   ]
  },
  {
   "cell_type": "code",
   "execution_count": 56,
   "id": "ecf08059",
   "metadata": {},
   "outputs": [
    {
     "name": "stdout",
     "output_type": "stream",
     "text": [
      "(35744,) (35744,) (8936,) (8936,)\n"
     ]
    }
   ],
   "source": [
    "X_train, X_test, y_train, y_test = train_test_split(X, Y, test_size = 0.2, stratify = Y, random_state = 42)\n",
    "print(X_train.shape, y_train.shape, X_test.shape, y_test.shape)"
   ]
  },
  {
   "cell_type": "code",
   "execution_count": 57,
   "id": "d648587a",
   "metadata": {},
   "outputs": [],
   "source": [
    "# tf - idf vectorization"
   ]
  },
  {
   "cell_type": "code",
   "execution_count": 58,
   "id": "3e51a14e",
   "metadata": {},
   "outputs": [
    {
     "name": "stdout",
     "output_type": "stream",
     "text": [
      "(35744, 31811)\n",
      "(8936, 31811)\n"
     ]
    }
   ],
   "source": [
    "tf_idf = TfidfVectorizer()\n",
    "X_train_tf = tf_idf.fit_transform(X_train)\n",
    "X_test_tf = tf_idf.transform(X_test)\n",
    "print(X_train_tf.shape)\n",
    "print(X_test_tf.shape)"
   ]
  },
  {
   "cell_type": "code",
   "execution_count": 59,
   "id": "7190be9e",
   "metadata": {},
   "outputs": [],
   "source": [
    "# trying differnt models"
   ]
  },
  {
   "cell_type": "markdown",
   "id": "c8437cc2",
   "metadata": {},
   "source": [
    "# XGBoost"
   ]
  },
  {
   "cell_type": "code",
   "execution_count": 60,
   "id": "3dc2783f",
   "metadata": {},
   "outputs": [
    {
     "name": "stdout",
     "output_type": "stream",
     "text": [
      "Requirement already satisfied: xgboost in f:\\dmt\\lib\\site-packages (1.5.2)\n",
      "Requirement already satisfied: numpy in f:\\dmt\\lib\\site-packages (from xgboost) (1.19.5)\n",
      "Requirement already satisfied: scipy in f:\\dmt\\lib\\site-packages (from xgboost) (1.5.4)\n",
      "Note: you may need to restart the kernel to use updated packages.\n"
     ]
    }
   ],
   "source": [
    "%pip install xgboost"
   ]
  },
  {
   "cell_type": "code",
   "execution_count": 61,
   "id": "dd365753",
   "metadata": {},
   "outputs": [],
   "source": [
    "import xgboost as xgb"
   ]
  },
  {
   "cell_type": "code",
   "execution_count": 62,
   "id": "e7ac7095",
   "metadata": {},
   "outputs": [],
   "source": [
    "xg= xgb.XGBClassifier(n_estimators=100)"
   ]
  },
  {
   "cell_type": "code",
   "execution_count": 63,
   "id": "2219e188",
   "metadata": {},
   "outputs": [
    {
     "name": "stdout",
     "output_type": "stream",
     "text": [
      "[16:26:07] WARNING: C:/Users/Administrator/workspace/xgboost-win64_release_1.5.1/src/learner.cc:1115: Starting in XGBoost 1.3.0, the default evaluation metric used with the objective 'multi:softprob' was changed from 'merror' to 'mlogloss'. Explicitly set eval_metric if you'd like to restore the old behavior.\n"
     ]
    },
    {
     "data": {
      "text/plain": [
       "XGBClassifier(base_score=0.5, booster='gbtree', colsample_bylevel=1,\n",
       "              colsample_bynode=1, colsample_bytree=1, enable_categorical=False,\n",
       "              gamma=0, gpu_id=-1, importance_type=None,\n",
       "              interaction_constraints='', learning_rate=0.300000012,\n",
       "              max_delta_step=0, max_depth=6, min_child_weight=1, missing=nan,\n",
       "              monotone_constraints='()', n_estimators=100, n_jobs=8,\n",
       "              num_parallel_tree=1, objective='multi:softprob', predictor='auto',\n",
       "              random_state=0, reg_alpha=0, reg_lambda=1, scale_pos_weight=None,\n",
       "              subsample=1, tree_method='exact', validate_parameters=1,\n",
       "              verbosity=None)"
      ]
     },
     "execution_count": 63,
     "metadata": {},
     "output_type": "execute_result"
    }
   ],
   "source": [
    "xg.fit(X_train_tf,y_train)"
   ]
  },
  {
   "cell_type": "code",
   "execution_count": 64,
   "id": "0b1a0bd6",
   "metadata": {},
   "outputs": [],
   "source": [
    "pred=xg.predict(X_test_tf)"
   ]
  },
  {
   "cell_type": "code",
   "execution_count": 65,
   "id": "67aaef75",
   "metadata": {},
   "outputs": [
    {
     "name": "stdout",
     "output_type": "stream",
     "text": [
      "0.8473589973142346\n",
      "              precision    recall  f1-score   support\n",
      "\n",
      "           0       0.97      0.94      0.96      1590\n",
      "           1       0.99      0.97      0.98      1577\n",
      "           2       0.99      0.98      0.98      1554\n",
      "           3       0.91      0.85      0.88      1524\n",
      "           4       0.60      0.50      0.55      1160\n",
      "           5       0.60      0.74      0.66      1531\n",
      "\n",
      "    accuracy                           0.85      8936\n",
      "   macro avg       0.84      0.83      0.83      8936\n",
      "weighted avg       0.85      0.85      0.85      8936\n",
      "\n"
     ]
    }
   ],
   "source": [
    "accuracy = accuracy_score(y_test,pred)\n",
    "print(accuracy)\n",
    "print(classification_report(y_test,pred))"
   ]
  },
  {
   "cell_type": "markdown",
   "id": "c2a453ca",
   "metadata": {},
   "source": [
    "# Gradient Boost"
   ]
  },
  {
   "cell_type": "code",
   "execution_count": 66,
   "id": "c08d2b05",
   "metadata": {},
   "outputs": [
    {
     "name": "stdout",
     "output_type": "stream",
     "text": [
      "model score: 0.825\n",
      "              precision    recall  f1-score   support\n",
      "\n",
      "           0       0.97      0.91      0.94      1590\n",
      "           1       0.99      0.96      0.98      1577\n",
      "           2       0.99      0.97      0.98      1554\n",
      "           3       0.94      0.79      0.86      1524\n",
      "           4       0.60      0.38      0.47      1160\n",
      "           5       0.53      0.81      0.64      1531\n",
      "\n",
      "    accuracy                           0.82      8936\n",
      "   macro avg       0.84      0.81      0.81      8936\n",
      "weighted avg       0.85      0.82      0.83      8936\n",
      "\n"
     ]
    }
   ],
   "source": [
    "from sklearn.ensemble import GradientBoostingClassifier\n",
    "model=GradientBoostingClassifier(n_estimators= 50)\n",
    "\n",
    "model.fit(X_train_tf,y_train.values.ravel())\n",
    "\n",
    "acc_score = model.score(X_test_tf, y_test)\n",
    "print(\"model score: %.3f\" % acc_score)\n",
    "\n",
    "y_pred=model.predict(X_test_tf)\n",
    "print(classification_report(y_test,y_pred))"
   ]
  },
  {
   "cell_type": "markdown",
   "id": "61fbf551",
   "metadata": {},
   "source": [
    "# Random Forest"
   ]
  },
  {
   "cell_type": "code",
   "execution_count": 67,
   "id": "ef547d50",
   "metadata": {},
   "outputs": [
    {
     "data": {
      "text/plain": [
       "RandomForestClassifier(criterion='entropy')"
      ]
     },
     "execution_count": 67,
     "metadata": {},
     "output_type": "execute_result"
    }
   ],
   "source": [
    "from sklearn.ensemble import RandomForestClassifier\n",
    "rf = RandomForestClassifier(n_estimators = 100, criterion = 'entropy')\n",
    "rf.fit(X_train_tf,y_train)"
   ]
  },
  {
   "cell_type": "code",
   "execution_count": 68,
   "id": "7c274b9e",
   "metadata": {},
   "outputs": [
    {
     "name": "stdout",
     "output_type": "stream",
     "text": [
      "0.846911369740376\n",
      "              precision    recall  f1-score   support\n",
      "\n",
      "           0       0.96      0.96      0.96      1590\n",
      "           1       0.97      0.97      0.97      1577\n",
      "           2       0.98      0.98      0.98      1554\n",
      "           3       0.90      0.85      0.88      1524\n",
      "           4       0.60      0.55      0.58      1160\n",
      "           5       0.61      0.69      0.65      1531\n",
      "\n",
      "    accuracy                           0.85      8936\n",
      "   macro avg       0.84      0.83      0.84      8936\n",
      "weighted avg       0.85      0.85      0.85      8936\n",
      "\n"
     ]
    }
   ],
   "source": [
    "pred = rf.predict(X_test_tf)\n",
    "accuracy=accuracy_score(y_test,pred)\n",
    "print(accuracy)\n",
    "print(classification_report(y_test,pred))"
   ]
  },
  {
   "cell_type": "markdown",
   "id": "971b5a49",
   "metadata": {},
   "source": [
    "# LogisticRegression"
   ]
  },
  {
   "cell_type": "code",
   "execution_count": 69,
   "id": "910266e5",
   "metadata": {},
   "outputs": [
    {
     "data": {
      "text/plain": [
       "LogisticRegression()"
      ]
     },
     "execution_count": 69,
     "metadata": {},
     "output_type": "execute_result"
    }
   ],
   "source": [
    "from sklearn.linear_model import LogisticRegression\n",
    "lr = LogisticRegression()\n",
    "lr.fit(X_train_tf,y_train)"
   ]
  },
  {
   "cell_type": "code",
   "execution_count": 70,
   "id": "19ae96d7",
   "metadata": {},
   "outputs": [
    {
     "name": "stdout",
     "output_type": "stream",
     "text": [
      "0.8417636526410027\n",
      "              precision    recall  f1-score   support\n",
      "\n",
      "           0       0.96      0.94      0.95      1590\n",
      "           1       0.94      0.97      0.96      1577\n",
      "           2       0.98      0.98      0.98      1554\n",
      "           3       0.92      0.84      0.88      1524\n",
      "           4       0.59      0.59      0.59      1160\n",
      "           5       0.62      0.66      0.64      1531\n",
      "\n",
      "    accuracy                           0.84      8936\n",
      "   macro avg       0.83      0.83      0.83      8936\n",
      "weighted avg       0.85      0.84      0.84      8936\n",
      "\n"
     ]
    }
   ],
   "source": [
    "pred = lr.predict(X_test_tf)\n",
    "accuracy = accuracy_score(y_test,pred)\n",
    "print(accuracy)\n",
    "print(classification_report(y_test,pred))"
   ]
  },
  {
   "cell_type": "markdown",
   "id": "0940d985",
   "metadata": {},
   "source": [
    "# DecisionTree"
   ]
  },
  {
   "cell_type": "code",
   "execution_count": 71,
   "id": "3bd24305",
   "metadata": {},
   "outputs": [
    {
     "data": {
      "text/plain": [
       "DecisionTreeClassifier(criterion='entropy', random_state=42)"
      ]
     },
     "execution_count": 71,
     "metadata": {},
     "output_type": "execute_result"
    }
   ],
   "source": [
    "from sklearn.tree import DecisionTreeClassifier\n",
    "df = DecisionTreeClassifier(criterion='entropy',random_state=42)\n",
    "df.fit(X_train_tf,y_train)"
   ]
  },
  {
   "cell_type": "code",
   "execution_count": 72,
   "id": "b89077da",
   "metadata": {},
   "outputs": [
    {
     "name": "stdout",
     "output_type": "stream",
     "text": [
      "0.8171441360787824\n",
      "              precision    recall  f1-score   support\n",
      "\n",
      "           0       0.95      0.91      0.93      1590\n",
      "           1       0.98      0.96      0.97      1577\n",
      "           2       0.98      0.97      0.98      1554\n",
      "           3       0.86      0.83      0.84      1524\n",
      "           4       0.53      0.52      0.53      1160\n",
      "           5       0.56      0.63      0.59      1531\n",
      "\n",
      "    accuracy                           0.82      8936\n",
      "   macro avg       0.81      0.80      0.81      8936\n",
      "weighted avg       0.82      0.82      0.82      8936\n",
      "\n"
     ]
    }
   ],
   "source": [
    "pred = df.predict(X_test_tf)\n",
    "accuracy = accuracy_score(y_test,pred)\n",
    "print(accuracy)\n",
    "print(classification_report(y_test,pred))"
   ]
  },
  {
   "cell_type": "markdown",
   "id": "cbee112d",
   "metadata": {},
   "source": [
    "# Ensemble Learning (Hybrid approach - RandomForest,LR, XGBoost)"
   ]
  },
  {
   "cell_type": "code",
   "execution_count": 73,
   "id": "92a9ffc0",
   "metadata": {},
   "outputs": [
    {
     "name": "stdout",
     "output_type": "stream",
     "text": [
      "[16:30:25] WARNING: C:/Users/Administrator/workspace/xgboost-win64_release_1.5.1/src/learner.cc:1115: Starting in XGBoost 1.3.0, the default evaluation metric used with the objective 'multi:softprob' was changed from 'merror' to 'mlogloss'. Explicitly set eval_metric if you'd like to restore the old behavior.\n"
     ]
    },
    {
     "data": {
      "text/plain": [
       "LogisticRegression()"
      ]
     },
     "execution_count": 73,
     "metadata": {},
     "output_type": "execute_result"
    }
   ],
   "source": [
    "from sklearn.ensemble import RandomForestClassifier, VotingClassifier\n",
    "from xgboost import XGBClassifier\n",
    "from sklearn.linear_model import LogisticRegression\n",
    "\n",
    "rf_model = RandomForestClassifier(n_estimators = 50, random_state = 42)\n",
    "xgb_model = XGBClassifier(n_estimators = 50, random_state = 42)\n",
    "lr_model = LogisticRegression()\n",
    "\n",
    "rf_model.fit(X_train_tf, y_train)\n",
    "xgb_model.fit(X_train_tf, y_train)\n",
    "lr_model.fit(X_train_tf, y_train)"
   ]
  },
  {
   "cell_type": "code",
   "execution_count": 74,
   "id": "70584aa2",
   "metadata": {},
   "outputs": [
    {
     "name": "stdout",
     "output_type": "stream",
     "text": [
      "[16:31:16] WARNING: C:/Users/Administrator/workspace/xgboost-win64_release_1.5.1/src/learner.cc:1115: Starting in XGBoost 1.3.0, the default evaluation metric used with the objective 'multi:softprob' was changed from 'merror' to 'mlogloss'. Explicitly set eval_metric if you'd like to restore the old behavior.\n"
     ]
    },
    {
     "data": {
      "text/plain": [
       "VotingClassifier(estimators=[('random_forest',\n",
       "                              RandomForestClassifier(n_estimators=50,\n",
       "                                                     random_state=42)),\n",
       "                             ('xgboost',\n",
       "                              XGBClassifier(base_score=0.5, booster='gbtree',\n",
       "                                            colsample_bylevel=1,\n",
       "                                            colsample_bynode=1,\n",
       "                                            colsample_bytree=1,\n",
       "                                            enable_categorical=False, gamma=0,\n",
       "                                            gpu_id=-1, importance_type=None,\n",
       "                                            interaction_constraints='',\n",
       "                                            learning_rate=0.300000012,\n",
       "                                            max_delta_step=0, max_depth=6,\n",
       "                                            min_child_weight=1, missing=nan,\n",
       "                                            monotone_constraints='()',\n",
       "                                            n_estimators=50, n_jobs=8,\n",
       "                                            num_parallel_tree=1,\n",
       "                                            objective='multi:softprob',\n",
       "                                            predictor='auto', random_state=42,\n",
       "                                            reg_alpha=0, reg_lambda=1,\n",
       "                                            scale_pos_weight=None, subsample=1,\n",
       "                                            tree_method='exact',\n",
       "                                            validate_parameters=1,\n",
       "                                            verbosity=None)),\n",
       "                             ('lr', LogisticRegression())])"
      ]
     },
     "execution_count": 74,
     "metadata": {},
     "output_type": "execute_result"
    }
   ],
   "source": [
    "rf_preds = rf_model.predict(X_test_tf)\n",
    "xgb_preds = xgb_model.predict(X_test_tf)\n",
    "lr_preds = lr_model.predict(X_test_tf)\n",
    "\n",
    "voting_clf = VotingClassifier(estimators=[\n",
    "      ('random_forest', rf_model),\n",
    "      ('xgboost', xgb_model),\n",
    "      ('lr', lr_model)\n",
    "  ], voting='hard')\n",
    "\n",
    "voting_clf.fit(X_train_tf, y_train)"
   ]
  },
  {
   "cell_type": "code",
   "execution_count": 75,
   "id": "65d4ce4a",
   "metadata": {},
   "outputs": [],
   "source": [
    "ensemble_preds = voting_clf.predict(X_test_tf)"
   ]
  },
  {
   "cell_type": "code",
   "execution_count": 76,
   "id": "0357b868",
   "metadata": {},
   "outputs": [
    {
     "name": "stdout",
     "output_type": "stream",
     "text": [
      "Random Forest Accuracy: 0.8473589973142346\n",
      "XGBoost Accuracy: 0.8470232766338407\n",
      "KNN Accuracy: 0.8417636526410027\n",
      "Ensemble Accuracy: 0.8532900626678603\n",
      "              precision    recall  f1-score   support\n",
      "\n",
      "           0       0.96      0.95      0.96      1590\n",
      "           1       0.96      0.98      0.97      1577\n",
      "           2       0.98      0.99      0.98      1554\n",
      "           3       0.91      0.85      0.88      1524\n",
      "           4       0.63      0.55      0.59      1160\n",
      "           5       0.62      0.72      0.67      1531\n",
      "\n",
      "    accuracy                           0.85      8936\n",
      "   macro avg       0.85      0.84      0.84      8936\n",
      "weighted avg       0.86      0.85      0.85      8936\n",
      "\n"
     ]
    }
   ],
   "source": [
    "print(\"Random Forest Accuracy:\", accuracy_score(y_test, rf_preds))\n",
    "print(\"XGBoost Accuracy:\", accuracy_score(y_test, xgb_preds))\n",
    "print(\"KNN Accuracy:\", accuracy_score(y_test, lr_preds))\n",
    "print(\"Ensemble Accuracy:\", accuracy_score(y_test, ensemble_preds))\n",
    "print(classification_report(y_test,ensemble_preds))"
   ]
  },
  {
   "cell_type": "markdown",
   "id": "fddccf96",
   "metadata": {},
   "source": [
    "# BERT Model"
   ]
  },
  {
   "cell_type": "code",
   "execution_count": 77,
   "id": "98080ade",
   "metadata": {},
   "outputs": [
    {
     "name": "stdout",
     "output_type": "stream",
     "text": [
      "Requirement already satisfied: tensorflow in f:\\dmt\\lib\\site-packages (2.6.2)Note: you may need to restart the kernel to use updated packages.\n",
      "Requirement already satisfied: tensorboard<2.7,>=2.6.0 in f:\\dmt\\lib\\site-packages (from tensorflow) (2.6.0)\n",
      "Requirement already satisfied: tensorflow-estimator<2.7,>=2.6.0 in f:\\dmt\\lib\\site-packages (from tensorflow) (2.6.0)\n",
      "Requirement already satisfied: flatbuffers~=1.12.0 in f:\\dmt\\lib\\site-packages (from tensorflow) (1.12)\n",
      "Requirement already satisfied: absl-py~=0.10 in f:\\dmt\\lib\\site-packages (from tensorflow) (0.15.0)\n",
      "Requirement already satisfied: numpy~=1.19.2 in f:\\dmt\\lib\\site-packages (from tensorflow) (1.19.5)\n",
      "Requirement already satisfied: h5py~=3.1.0 in f:\\dmt\\lib\\site-packages (from tensorflow) (3.1.0)\n",
      "Requirement already satisfied: gast==0.4.0 in f:\\dmt\\lib\\site-packages (from tensorflow) (0.4.0)\n",
      "Requirement already satisfied: keras-preprocessing~=1.1.2 in f:\\dmt\\lib\\site-packages (from tensorflow) (1.1.2)\n",
      "Requirement already satisfied: six~=1.15.0 in f:\\dmt\\lib\\site-packages (from tensorflow) (1.15.0)\n",
      "Requirement already satisfied: wheel~=0.35 in f:\\dmt\\lib\\site-packages (from tensorflow) (0.37.1)\n",
      "\n",
      "Requirement already satisfied: clang~=5.0 in f:\\dmt\\lib\\site-packages (from tensorflow) (5.0)\n",
      "Requirement already satisfied: astunparse~=1.6.3 in f:\\dmt\\lib\\site-packages (from tensorflow) (1.6.3)\n",
      "Requirement already satisfied: opt-einsum~=3.3.0 in f:\\dmt\\lib\\site-packages (from tensorflow) (3.3.0)\n",
      "Requirement already satisfied: termcolor~=1.1.0 in f:\\dmt\\lib\\site-packages (from tensorflow) (1.1.0)\n",
      "Requirement already satisfied: typing-extensions~=3.7.4 in f:\\dmt\\lib\\site-packages (from tensorflow) (3.7.4.3)\n",
      "Requirement already satisfied: protobuf>=3.9.2 in f:\\dmt\\lib\\site-packages (from tensorflow) (3.19.6)\n",
      "Requirement already satisfied: grpcio<2.0,>=1.37.0 in f:\\dmt\\lib\\site-packages (from tensorflow) (1.48.2)\n",
      "Requirement already satisfied: google-pasta~=0.2 in f:\\dmt\\lib\\site-packages (from tensorflow) (0.2.0)\n",
      "Requirement already satisfied: keras<2.7,>=2.6.0 in f:\\dmt\\lib\\site-packages (from tensorflow) (2.6.0)\n",
      "Requirement already satisfied: wrapt~=1.12.1 in f:\\dmt\\lib\\site-packages (from tensorflow) (1.12.1)\n",
      "Requirement already satisfied: cached-property in f:\\dmt\\lib\\site-packages (from h5py~=3.1.0->tensorflow) (1.5.2)\n",
      "Requirement already satisfied: google-auth<2,>=1.6.3 in f:\\dmt\\lib\\site-packages (from tensorboard<2.7,>=2.6.0->tensorflow) (1.35.0)\n",
      "Requirement already satisfied: markdown>=2.6.8 in f:\\dmt\\lib\\site-packages (from tensorboard<2.7,>=2.6.0->tensorflow) (3.3.7)\n",
      "Requirement already satisfied: tensorboard-plugin-wit>=1.6.0 in f:\\dmt\\lib\\site-packages (from tensorboard<2.7,>=2.6.0->tensorflow) (1.8.1)\n",
      "Requirement already satisfied: setuptools>=41.0.0 in f:\\dmt\\lib\\site-packages (from tensorboard<2.7,>=2.6.0->tensorflow) (59.6.0)\n",
      "Requirement already satisfied: werkzeug>=0.11.15 in f:\\dmt\\lib\\site-packages (from tensorboard<2.7,>=2.6.0->tensorflow) (2.0.3)\n",
      "Requirement already satisfied: requests<3,>=2.21.0 in f:\\dmt\\lib\\site-packages (from tensorboard<2.7,>=2.6.0->tensorflow) (2.27.1)\n",
      "Requirement already satisfied: google-auth-oauthlib<0.5,>=0.4.1 in f:\\dmt\\lib\\site-packages (from tensorboard<2.7,>=2.6.0->tensorflow) (0.4.6)\n",
      "Requirement already satisfied: tensorboard-data-server<0.7.0,>=0.6.0 in f:\\dmt\\lib\\site-packages (from tensorboard<2.7,>=2.6.0->tensorflow) (0.6.1)\n",
      "Requirement already satisfied: rsa<5,>=3.1.4 in f:\\dmt\\lib\\site-packages (from google-auth<2,>=1.6.3->tensorboard<2.7,>=2.6.0->tensorflow) (4.9)\n",
      "Requirement already satisfied: pyasn1-modules>=0.2.1 in f:\\dmt\\lib\\site-packages (from google-auth<2,>=1.6.3->tensorboard<2.7,>=2.6.0->tensorflow) (0.3.0)\n",
      "Requirement already satisfied: cachetools<5.0,>=2.0.0 in f:\\dmt\\lib\\site-packages (from google-auth<2,>=1.6.3->tensorboard<2.7,>=2.6.0->tensorflow) (4.2.4)\n",
      "Requirement already satisfied: requests-oauthlib>=0.7.0 in f:\\dmt\\lib\\site-packages (from google-auth-oauthlib<0.5,>=0.4.1->tensorboard<2.7,>=2.6.0->tensorflow) (1.3.1)\n",
      "Requirement already satisfied: importlib-metadata>=4.4 in f:\\dmt\\lib\\site-packages (from markdown>=2.6.8->tensorboard<2.7,>=2.6.0->tensorflow) (4.8.3)\n",
      "Requirement already satisfied: urllib3<1.27,>=1.21.1 in f:\\dmt\\lib\\site-packages (from requests<3,>=2.21.0->tensorboard<2.7,>=2.6.0->tensorflow) (1.26.18)\n",
      "Requirement already satisfied: charset-normalizer~=2.0.0 in f:\\dmt\\lib\\site-packages (from requests<3,>=2.21.0->tensorboard<2.7,>=2.6.0->tensorflow) (2.0.12)\n",
      "Requirement already satisfied: idna<4,>=2.5 in f:\\dmt\\lib\\site-packages (from requests<3,>=2.21.0->tensorboard<2.7,>=2.6.0->tensorflow) (3.4)\n",
      "Requirement already satisfied: certifi>=2017.4.17 in f:\\dmt\\lib\\site-packages (from requests<3,>=2.21.0->tensorboard<2.7,>=2.6.0->tensorflow) (2023.7.22)\n",
      "Requirement already satisfied: dataclasses in f:\\dmt\\lib\\site-packages (from werkzeug>=0.11.15->tensorboard<2.7,>=2.6.0->tensorflow) (0.8)\n",
      "Requirement already satisfied: zipp>=0.5 in f:\\dmt\\lib\\site-packages (from importlib-metadata>=4.4->markdown>=2.6.8->tensorboard<2.7,>=2.6.0->tensorflow) (3.6.0)\n",
      "Requirement already satisfied: pyasn1<0.6.0,>=0.4.6 in f:\\dmt\\lib\\site-packages (from pyasn1-modules>=0.2.1->google-auth<2,>=1.6.3->tensorboard<2.7,>=2.6.0->tensorflow) (0.5.0)\n",
      "Requirement already satisfied: oauthlib>=3.0.0 in f:\\dmt\\lib\\site-packages (from requests-oauthlib>=0.7.0->google-auth-oauthlib<0.5,>=0.4.1->tensorboard<2.7,>=2.6.0->tensorflow) (3.2.2)\n",
      "Requirement already satisfied: tensorflow-text in f:\\dmt\\lib\\site-packages (2.6.0)Note: you may need to restart the kernel to use updated packages.\n",
      "Requirement already satisfied: tensorflow<2.7,>=2.6.0 in f:\\dmt\\lib\\site-packages (from tensorflow-text) (2.6.2)\n",
      "Requirement already satisfied: tensorflow-hub>=0.8.0 in f:\\dmt\\lib\\site-packages (from tensorflow-text) (0.15.0)\n",
      "Requirement already satisfied: numpy~=1.19.2 in f:\\dmt\\lib\\site-packages (from tensorflow<2.7,>=2.6.0->tensorflow-text) (1.19.5)\n",
      "\n",
      "Requirement already satisfied: gast==0.4.0 in f:\\dmt\\lib\\site-packages (from tensorflow<2.7,>=2.6.0->tensorflow-text) (0.4.0)\n",
      "Requirement already satisfied: flatbuffers~=1.12.0 in f:\\dmt\\lib\\site-packages (from tensorflow<2.7,>=2.6.0->tensorflow-text) (1.12)\n",
      "Requirement already satisfied: astunparse~=1.6.3 in f:\\dmt\\lib\\site-packages (from tensorflow<2.7,>=2.6.0->tensorflow-text) (1.6.3)\n",
      "Requirement already satisfied: keras-preprocessing~=1.1.2 in f:\\dmt\\lib\\site-packages (from tensorflow<2.7,>=2.6.0->tensorflow-text) (1.1.2)\n",
      "Requirement already satisfied: clang~=5.0 in f:\\dmt\\lib\\site-packages (from tensorflow<2.7,>=2.6.0->tensorflow-text) (5.0)\n",
      "Requirement already satisfied: opt-einsum~=3.3.0 in f:\\dmt\\lib\\site-packages (from tensorflow<2.7,>=2.6.0->tensorflow-text) (3.3.0)\n",
      "Requirement already satisfied: typing-extensions~=3.7.4 in f:\\dmt\\lib\\site-packages (from tensorflow<2.7,>=2.6.0->tensorflow-text) (3.7.4.3)\n",
      "Requirement already satisfied: absl-py~=0.10 in f:\\dmt\\lib\\site-packages (from tensorflow<2.7,>=2.6.0->tensorflow-text) (0.15.0)\n",
      "Requirement already satisfied: tensorboard<2.7,>=2.6.0 in f:\\dmt\\lib\\site-packages (from tensorflow<2.7,>=2.6.0->tensorflow-text) (2.6.0)\n",
      "Requirement already satisfied: keras<2.7,>=2.6.0 in f:\\dmt\\lib\\site-packages (from tensorflow<2.7,>=2.6.0->tensorflow-text) (2.6.0)\n",
      "Requirement already satisfied: protobuf>=3.9.2 in f:\\dmt\\lib\\site-packages (from tensorflow<2.7,>=2.6.0->tensorflow-text) (3.19.6)\n",
      "Requirement already satisfied: six~=1.15.0 in f:\\dmt\\lib\\site-packages (from tensorflow<2.7,>=2.6.0->tensorflow-text) (1.15.0)\n",
      "Requirement already satisfied: tensorflow-estimator<2.7,>=2.6.0 in f:\\dmt\\lib\\site-packages (from tensorflow<2.7,>=2.6.0->tensorflow-text) (2.6.0)\n",
      "Requirement already satisfied: wrapt~=1.12.1 in f:\\dmt\\lib\\site-packages (from tensorflow<2.7,>=2.6.0->tensorflow-text) (1.12.1)\n",
      "Requirement already satisfied: h5py~=3.1.0 in f:\\dmt\\lib\\site-packages (from tensorflow<2.7,>=2.6.0->tensorflow-text) (3.1.0)\n",
      "Requirement already satisfied: grpcio<2.0,>=1.37.0 in f:\\dmt\\lib\\site-packages (from tensorflow<2.7,>=2.6.0->tensorflow-text) (1.48.2)\n",
      "Requirement already satisfied: termcolor~=1.1.0 in f:\\dmt\\lib\\site-packages (from tensorflow<2.7,>=2.6.0->tensorflow-text) (1.1.0)\n",
      "Requirement already satisfied: google-pasta~=0.2 in f:\\dmt\\lib\\site-packages (from tensorflow<2.7,>=2.6.0->tensorflow-text) (0.2.0)\n",
      "Requirement already satisfied: wheel~=0.35 in f:\\dmt\\lib\\site-packages (from tensorflow<2.7,>=2.6.0->tensorflow-text) (0.37.1)\n",
      "Requirement already satisfied: cached-property in f:\\dmt\\lib\\site-packages (from h5py~=3.1.0->tensorflow<2.7,>=2.6.0->tensorflow-text) (1.5.2)\n",
      "Requirement already satisfied: google-auth-oauthlib<0.5,>=0.4.1 in f:\\dmt\\lib\\site-packages (from tensorboard<2.7,>=2.6.0->tensorflow<2.7,>=2.6.0->tensorflow-text) (0.4.6)\n",
      "Requirement already satisfied: google-auth<2,>=1.6.3 in f:\\dmt\\lib\\site-packages (from tensorboard<2.7,>=2.6.0->tensorflow<2.7,>=2.6.0->tensorflow-text) (1.35.0)\n",
      "Requirement already satisfied: tensorboard-plugin-wit>=1.6.0 in f:\\dmt\\lib\\site-packages (from tensorboard<2.7,>=2.6.0->tensorflow<2.7,>=2.6.0->tensorflow-text) (1.8.1)\n",
      "Requirement already satisfied: werkzeug>=0.11.15 in f:\\dmt\\lib\\site-packages (from tensorboard<2.7,>=2.6.0->tensorflow<2.7,>=2.6.0->tensorflow-text) (2.0.3)\n",
      "Requirement already satisfied: tensorboard-data-server<0.7.0,>=0.6.0 in f:\\dmt\\lib\\site-packages (from tensorboard<2.7,>=2.6.0->tensorflow<2.7,>=2.6.0->tensorflow-text) (0.6.1)\n",
      "Requirement already satisfied: markdown>=2.6.8 in f:\\dmt\\lib\\site-packages (from tensorboard<2.7,>=2.6.0->tensorflow<2.7,>=2.6.0->tensorflow-text) (3.3.7)\n",
      "Requirement already satisfied: setuptools>=41.0.0 in f:\\dmt\\lib\\site-packages (from tensorboard<2.7,>=2.6.0->tensorflow<2.7,>=2.6.0->tensorflow-text) (59.6.0)\n",
      "Requirement already satisfied: requests<3,>=2.21.0 in f:\\dmt\\lib\\site-packages (from tensorboard<2.7,>=2.6.0->tensorflow<2.7,>=2.6.0->tensorflow-text) (2.27.1)\n",
      "Requirement already satisfied: pyasn1-modules>=0.2.1 in f:\\dmt\\lib\\site-packages (from google-auth<2,>=1.6.3->tensorboard<2.7,>=2.6.0->tensorflow<2.7,>=2.6.0->tensorflow-text) (0.3.0)\n",
      "Requirement already satisfied: cachetools<5.0,>=2.0.0 in f:\\dmt\\lib\\site-packages (from google-auth<2,>=1.6.3->tensorboard<2.7,>=2.6.0->tensorflow<2.7,>=2.6.0->tensorflow-text) (4.2.4)\n",
      "Requirement already satisfied: rsa<5,>=3.1.4 in f:\\dmt\\lib\\site-packages (from google-auth<2,>=1.6.3->tensorboard<2.7,>=2.6.0->tensorflow<2.7,>=2.6.0->tensorflow-text) (4.9)\n",
      "Requirement already satisfied: requests-oauthlib>=0.7.0 in f:\\dmt\\lib\\site-packages (from google-auth-oauthlib<0.5,>=0.4.1->tensorboard<2.7,>=2.6.0->tensorflow<2.7,>=2.6.0->tensorflow-text) (1.3.1)\n",
      "Requirement already satisfied: importlib-metadata>=4.4 in f:\\dmt\\lib\\site-packages (from markdown>=2.6.8->tensorboard<2.7,>=2.6.0->tensorflow<2.7,>=2.6.0->tensorflow-text) (4.8.3)\n",
      "Requirement already satisfied: idna<4,>=2.5 in f:\\dmt\\lib\\site-packages (from requests<3,>=2.21.0->tensorboard<2.7,>=2.6.0->tensorflow<2.7,>=2.6.0->tensorflow-text) (3.4)\n",
      "Requirement already satisfied: urllib3<1.27,>=1.21.1 in f:\\dmt\\lib\\site-packages (from requests<3,>=2.21.0->tensorboard<2.7,>=2.6.0->tensorflow<2.7,>=2.6.0->tensorflow-text) (1.26.18)\n",
      "Requirement already satisfied: charset-normalizer~=2.0.0 in f:\\dmt\\lib\\site-packages (from requests<3,>=2.21.0->tensorboard<2.7,>=2.6.0->tensorflow<2.7,>=2.6.0->tensorflow-text) (2.0.12)\n",
      "Requirement already satisfied: certifi>=2017.4.17 in f:\\dmt\\lib\\site-packages (from requests<3,>=2.21.0->tensorboard<2.7,>=2.6.0->tensorflow<2.7,>=2.6.0->tensorflow-text) (2023.7.22)\n",
      "Requirement already satisfied: dataclasses in f:\\dmt\\lib\\site-packages (from werkzeug>=0.11.15->tensorboard<2.7,>=2.6.0->tensorflow<2.7,>=2.6.0->tensorflow-text) (0.8)\n",
      "Requirement already satisfied: zipp>=0.5 in f:\\dmt\\lib\\site-packages (from importlib-metadata>=4.4->markdown>=2.6.8->tensorboard<2.7,>=2.6.0->tensorflow<2.7,>=2.6.0->tensorflow-text) (3.6.0)\n",
      "Requirement already satisfied: pyasn1<0.6.0,>=0.4.6 in f:\\dmt\\lib\\site-packages (from pyasn1-modules>=0.2.1->google-auth<2,>=1.6.3->tensorboard<2.7,>=2.6.0->tensorflow<2.7,>=2.6.0->tensorflow-text) (0.5.0)\n",
      "Requirement already satisfied: oauthlib>=3.0.0 in f:\\dmt\\lib\\site-packages (from requests-oauthlib>=0.7.0->google-auth-oauthlib<0.5,>=0.4.1->tensorboard<2.7,>=2.6.0->tensorflow<2.7,>=2.6.0->tensorflow-text) (3.2.2)\n"
     ]
    }
   ],
   "source": [
    "%pip install tensorflow\n",
    "%pip install tensorflow-text"
   ]
  },
  {
   "cell_type": "code",
   "execution_count": 78,
   "id": "219f2724",
   "metadata": {},
   "outputs": [],
   "source": [
    "import tensorflow as tf\n",
    "import tensorflow_hub as hub\n",
    "import tensorflow_text as text"
   ]
  },
  {
   "cell_type": "code",
   "execution_count": 79,
   "id": "43d89d96",
   "metadata": {},
   "outputs": [],
   "source": [
    "bert_preprocess = hub.KerasLayer(\"https://tfhub.dev/tensorflow/bert_en_uncased_preprocess/3\")\n",
    "bert_encoder = hub.KerasLayer(\"https://tfhub.dev/tensorflow/bert_en_uncased_L-12_H-768_A-12/4\")"
   ]
  },
  {
   "cell_type": "code",
   "execution_count": 80,
   "id": "43400391",
   "metadata": {},
   "outputs": [],
   "source": [
    "# Bert layers\n",
    "text_input = tf.keras.layers.Input(shape=(), dtype=tf.string, name='text')\n",
    "preprocessed_text = bert_preprocess(text_input)\n",
    "outputs = bert_encoder(preprocessed_text)\n",
    "\n",
    "# Neural network layers\n",
    "l = tf.keras.layers.Dropout(0.1, name=\"dropout\")(outputs['pooled_output'])\n",
    "l = tf.keras.layers.Dense(1, activation='sigmoid', name=\"output\")(l)\n",
    "\n",
    " #Use inputs and outputs to construct a final model\n",
    "model = tf.keras.Model(inputs=[text_input], outputs = [l])"
   ]
  },
  {
   "cell_type": "code",
   "execution_count": 81,
   "id": "2be7398d",
   "metadata": {},
   "outputs": [
    {
     "name": "stdout",
     "output_type": "stream",
     "text": [
      "Model: \"model\"\n",
      "__________________________________________________________________________________________________\n",
      "Layer (type)                    Output Shape         Param #     Connected to                     \n",
      "==================================================================================================\n",
      "text (InputLayer)               [(None,)]            0                                            \n",
      "__________________________________________________________________________________________________\n",
      "keras_layer (KerasLayer)        {'input_type_ids': ( 0           text[0][0]                       \n",
      "__________________________________________________________________________________________________\n",
      "keras_layer_1 (KerasLayer)      {'encoder_outputs':  109482241   keras_layer[0][0]                \n",
      "                                                                 keras_layer[0][1]                \n",
      "                                                                 keras_layer[0][2]                \n",
      "__________________________________________________________________________________________________\n",
      "dropout (Dropout)               (None, 768)          0           keras_layer_1[0][13]             \n",
      "__________________________________________________________________________________________________\n",
      "output (Dense)                  (None, 1)            769         dropout[0][0]                    \n",
      "==================================================================================================\n",
      "Total params: 109,483,010\n",
      "Trainable params: 769\n",
      "Non-trainable params: 109,482,241\n",
      "__________________________________________________________________________________________________\n"
     ]
    }
   ],
   "source": [
    "model.summary()"
   ]
  },
  {
   "cell_type": "code",
   "execution_count": 82,
   "id": "fce672f8",
   "metadata": {},
   "outputs": [],
   "source": [
    "model.compile(optimizer='adam',\n",
    "              loss='CategoricalCrossentropy',\n",
    "              metrics=['accuracy'])"
   ]
  },
  {
   "cell_type": "code",
   "execution_count": 83,
   "id": "85094282",
   "metadata": {},
   "outputs": [
    {
     "name": "stdout",
     "output_type": "stream",
     "text": [
      "Epoch 1/5\n",
      " 873/1117 [======================>.......] - ETA: 1:38:45 - loss: 0.0000e+00 - accuracy: 0.1755"
     ]
    }
   ],
   "source": [
    "model.fit(X_train, y_train, epochs=5)"
   ]
  },
  {
   "cell_type": "code",
   "execution_count": null,
   "id": "92c984ed",
   "metadata": {},
   "outputs": [
    {
     "name": "stdout",
     "output_type": "stream",
     "text": [
      "280/280 [==============================] - 1946s 7s/step - loss: 0.0000e+00 - accuracy: 0.1765\n"
     ]
    },
    {
     "data": {
      "text/plain": [
       "[0.0, 0.17647716403007507]"
      ]
     },
     "execution_count": 230,
     "metadata": {},
     "output_type": "execute_result"
    }
   ],
   "source": [
    "model.evaluate(X_test, y_test)\n"
   ]
  }
 ],
 "metadata": {
  "kernelspec": {
   "display_name": "Python 3 (ipykernel)",
   "language": "python",
   "name": "python3"
  },
  "language_info": {
   "codemirror_mode": {
    "name": "ipython",
    "version": 3
   },
   "file_extension": ".py",
   "mimetype": "text/x-python",
   "name": "python",
   "nbconvert_exporter": "python",
   "pygments_lexer": "ipython3",
   "version": "3.6.5"
  }
 },
 "nbformat": 4,
 "nbformat_minor": 5
}
